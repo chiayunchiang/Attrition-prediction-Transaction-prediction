{
 "cells": [
  {
   "cell_type": "markdown",
   "metadata": {
    "id": "o3E9ExHx1ptM"
   },
   "source": [
    "## Author: Chia-Yun (Sandy) Chiang"
   ]
  },
  {
   "cell_type": "markdown",
   "metadata": {
    "id": "g-GUQBW51pil"
   },
   "source": [
    "# Introduction\n",
    "\n",
    "In this project, we have two topics:\n",
    "- Topic 1 - Who will leave? - attrition prediction using logistic regression\n",
    "- Topic 2 - Who will transcat?  - transaction prediction using logistic regression\n",
    "\n",
    "Since topic 1 and topic 2 both need to use the logistic regression model, I'll define some automation functions for reusing these code."
   ]
  },
  {
   "cell_type": "markdown",
   "metadata": {
    "id": "OhJlga7i1pVp"
   },
   "source": [
    "### Setup"
   ]
  },
  {
   "cell_type": "code",
   "execution_count": 1,
   "metadata": {
    "id": "LG9XtjMaltZR"
   },
   "outputs": [],
   "source": [
    "# Import libraries\n",
    "import pandas as pd\n",
    "import numpy as np\n",
    "import matplotlib.pyplot as plt\n",
    "import seaborn as sns\n",
    "from sklearn.model_selection import train_test_split\n",
    "from sklearn.linear_model import Ridge\n",
    "from sklearn.linear_model import Lasso\n",
    "from sklearn.feature_selection import RFE\n",
    "from sklearn.linear_model import LogisticRegression\n",
    "from sklearn.linear_model import LassoCV, LassoLarsCV, LassoLarsIC\n",
    "from sklearn.model_selection import train_test_split\n",
    "from sklearn.linear_model import LinearRegression\n",
    "from sklearn.metrics import mean_squared_error\n",
    "from sklearn.metrics import accuracy_score\n",
    "from sklearn.metrics import confusion_matrix\n",
    "from sklearn.metrics import classification_report\n",
    "from sklearn.model_selection import cross_val_score\n",
    "from sklearn.linear_model import RidgeCV\n",
    "from sklearn.model_selection import RepeatedKFold\n",
    "from scipy.stats import chi2_contingency\n",
    "from scipy.stats import chi2\n",
    "from sklearn.model_selection import KFold\n",
    "import random\n",
    "from numpy.random import randint\n",
    "%matplotlib inline"
   ]
  },
  {
   "cell_type": "code",
   "execution_count": 2,
   "metadata": {
    "id": "qM4yMYW7fdZK"
   },
   "outputs": [],
   "source": [
    "plt.style.use('seaborn-white')\n",
    "plt.style.use('seaborn-pastel')\n",
    "plt.rcParams[\"figure.figsize\"] = (24,8)"
   ]
  },
  {
   "cell_type": "code",
   "execution_count": 3,
   "metadata": {
    "id": "Y9XUb3AOmf3s"
   },
   "outputs": [],
   "source": [
    "attrition_path = \"https://docs.google.com/spreadsheets/d/e/2PACX-1vRAXWHW6gEfYyarTw9o5hCvAnx5vPH4O1WFXVZT32iU7tFQP9KVdxH_XO6BKEGok9yuelVoeG76p4eM/pub?gid=1144642818&single=true&output=csv\"\n",
    "baseball_path = \"https://docs.google.com/spreadsheets/d/e/2PACX-1vQigI7-AKrL7SwQCp0zZjvvuaL12fpMxttsxSulXY4v2YjsvHWWP9MTo4fZqqCGXAFArICg0l38m9Re/pub?gid=1398581801&single=true&output=csv\"\n",
    "transact_path = \"https://docs.google.com/spreadsheets/d/e/2PACX-1vT5jWOTHnxTJ0uqBrc6ucecNRMaEQB0cV4t-IK6pJ75OmbItpsEdZ0-xevlu2rc_1mGbZlmkCODKyB5/pub?gid=1913800437&single=true&output=csv\""
   ]
  },
  {
   "cell_type": "markdown",
   "metadata": {
    "id": "_Sm7PYMETfos"
   },
   "source": [
    "# Topic1 - Who will leave? - attrition prediction using logistic regression"
   ]
  },
  {
   "cell_type": "markdown",
   "metadata": {
    "id": "mk--pbP10SlC"
   },
   "source": [
    "## Overview of dataset"
   ]
  },
  {
   "cell_type": "code",
   "execution_count": 4,
   "metadata": {
    "id": "IO6nN4860t6r"
   },
   "outputs": [],
   "source": [
    "leave_df = pd.read_csv(attrition_path)"
   ]
  },
  {
   "cell_type": "code",
   "execution_count": 5,
   "metadata": {
    "colab": {
     "base_uri": "https://localhost:8080/",
     "height": 141
    },
    "id": "baGZuD8SUfGT",
    "outputId": "3c83e6ab-10bd-468d-bdff-eb9e224019d6"
   },
   "outputs": [
    {
     "data": {
      "text/html": [
       "<div>\n",
       "<style scoped>\n",
       "    .dataframe tbody tr th:only-of-type {\n",
       "        vertical-align: middle;\n",
       "    }\n",
       "\n",
       "    .dataframe tbody tr th {\n",
       "        vertical-align: top;\n",
       "    }\n",
       "\n",
       "    .dataframe thead th {\n",
       "        text-align: right;\n",
       "    }\n",
       "</style>\n",
       "<table border=\"1\" class=\"dataframe\">\n",
       "  <thead>\n",
       "    <tr style=\"text-align: right;\">\n",
       "      <th></th>\n",
       "      <th>employee_satisfaction</th>\n",
       "      <th>last_performance_rating</th>\n",
       "      <th>workload</th>\n",
       "      <th>avg_montly_hours</th>\n",
       "      <th>tenure_years</th>\n",
       "      <th>ergo_issues</th>\n",
       "      <th>attrit</th>\n",
       "      <th>promo_in_last_5_years</th>\n",
       "      <th>dept</th>\n",
       "      <th>salary</th>\n",
       "    </tr>\n",
       "  </thead>\n",
       "  <tbody>\n",
       "    <tr>\n",
       "      <th>0</th>\n",
       "      <td>0.82</td>\n",
       "      <td>0.97</td>\n",
       "      <td>3</td>\n",
       "      <td>244</td>\n",
       "      <td>5</td>\n",
       "      <td>0</td>\n",
       "      <td>0</td>\n",
       "      <td>0</td>\n",
       "      <td>SALES</td>\n",
       "      <td>MEDIUM</td>\n",
       "    </tr>\n",
       "    <tr>\n",
       "      <th>1</th>\n",
       "      <td>0.75</td>\n",
       "      <td>0.81</td>\n",
       "      <td>2</td>\n",
       "      <td>247</td>\n",
       "      <td>4</td>\n",
       "      <td>0</td>\n",
       "      <td>0</td>\n",
       "      <td>0</td>\n",
       "      <td>HR</td>\n",
       "      <td>SMALL</td>\n",
       "    </tr>\n",
       "    <tr>\n",
       "      <th>2</th>\n",
       "      <td>0.54</td>\n",
       "      <td>0.81</td>\n",
       "      <td>4</td>\n",
       "      <td>257</td>\n",
       "      <td>2</td>\n",
       "      <td>0</td>\n",
       "      <td>0</td>\n",
       "      <td>0</td>\n",
       "      <td>ADMIN</td>\n",
       "      <td>SMALL</td>\n",
       "    </tr>\n",
       "  </tbody>\n",
       "</table>\n",
       "</div>"
      ],
      "text/plain": [
       "   employee_satisfaction  last_performance_rating  ...   dept  salary\n",
       "0                   0.82                     0.97  ...  SALES  MEDIUM\n",
       "1                   0.75                     0.81  ...     HR   SMALL\n",
       "2                   0.54                     0.81  ...  ADMIN   SMALL\n",
       "\n",
       "[3 rows x 10 columns]"
      ]
     },
     "execution_count": 5,
     "metadata": {
      "tags": []
     },
     "output_type": "execute_result"
    }
   ],
   "source": [
    "leave_df.head(3)"
   ]
  },
  {
   "cell_type": "code",
   "execution_count": 6,
   "metadata": {
    "colab": {
     "base_uri": "https://localhost:8080/",
     "height": 141
    },
    "id": "cOlmf0ZMUlBS",
    "outputId": "bb13327b-a904-4df0-efbc-a08d44e6d3d9"
   },
   "outputs": [
    {
     "data": {
      "text/html": [
       "<div>\n",
       "<style scoped>\n",
       "    .dataframe tbody tr th:only-of-type {\n",
       "        vertical-align: middle;\n",
       "    }\n",
       "\n",
       "    .dataframe tbody tr th {\n",
       "        vertical-align: top;\n",
       "    }\n",
       "\n",
       "    .dataframe thead th {\n",
       "        text-align: right;\n",
       "    }\n",
       "</style>\n",
       "<table border=\"1\" class=\"dataframe\">\n",
       "  <thead>\n",
       "    <tr style=\"text-align: right;\">\n",
       "      <th></th>\n",
       "      <th>employee_satisfaction</th>\n",
       "      <th>last_performance_rating</th>\n",
       "      <th>workload</th>\n",
       "      <th>avg_montly_hours</th>\n",
       "      <th>tenure_years</th>\n",
       "      <th>ergo_issues</th>\n",
       "      <th>attrit</th>\n",
       "      <th>promo_in_last_5_years</th>\n",
       "      <th>dept</th>\n",
       "      <th>salary</th>\n",
       "    </tr>\n",
       "  </thead>\n",
       "  <tbody>\n",
       "    <tr>\n",
       "      <th>11246</th>\n",
       "      <td>0.67</td>\n",
       "      <td>0.77</td>\n",
       "      <td>5</td>\n",
       "      <td>167</td>\n",
       "      <td>2</td>\n",
       "      <td>0</td>\n",
       "      <td>0</td>\n",
       "      <td>0</td>\n",
       "      <td>ADMIN</td>\n",
       "      <td>MEDIUM</td>\n",
       "    </tr>\n",
       "    <tr>\n",
       "      <th>11247</th>\n",
       "      <td>0.98</td>\n",
       "      <td>0.67</td>\n",
       "      <td>4</td>\n",
       "      <td>209</td>\n",
       "      <td>6</td>\n",
       "      <td>0</td>\n",
       "      <td>0</td>\n",
       "      <td>0</td>\n",
       "      <td>MKT</td>\n",
       "      <td>SMALL</td>\n",
       "    </tr>\n",
       "    <tr>\n",
       "      <th>11248</th>\n",
       "      <td>0.75</td>\n",
       "      <td>0.69</td>\n",
       "      <td>3</td>\n",
       "      <td>242</td>\n",
       "      <td>3</td>\n",
       "      <td>0</td>\n",
       "      <td>0</td>\n",
       "      <td>0</td>\n",
       "      <td>SALES</td>\n",
       "      <td>LARGE</td>\n",
       "    </tr>\n",
       "  </tbody>\n",
       "</table>\n",
       "</div>"
      ],
      "text/plain": [
       "       employee_satisfaction  last_performance_rating  ...   dept  salary\n",
       "11246                   0.67                     0.77  ...  ADMIN  MEDIUM\n",
       "11247                   0.98                     0.67  ...    MKT   SMALL\n",
       "11248                   0.75                     0.69  ...  SALES   LARGE\n",
       "\n",
       "[3 rows x 10 columns]"
      ]
     },
     "execution_count": 6,
     "metadata": {
      "tags": []
     },
     "output_type": "execute_result"
    }
   ],
   "source": [
    "leave_df.tail(3)"
   ]
  },
  {
   "cell_type": "code",
   "execution_count": 7,
   "metadata": {
    "colab": {
     "base_uri": "https://localhost:8080/"
    },
    "id": "8IgvSFbyUm3X",
    "outputId": "b93e81a3-e7c7-4e44-971f-a0b8a387dbc6"
   },
   "outputs": [
    {
     "data": {
      "text/plain": [
       "(11249, 10)"
      ]
     },
     "execution_count": 7,
     "metadata": {
      "tags": []
     },
     "output_type": "execute_result"
    }
   ],
   "source": [
    "leave_df.shape"
   ]
  },
  {
   "cell_type": "code",
   "execution_count": 8,
   "metadata": {
    "colab": {
     "base_uri": "https://localhost:8080/"
    },
    "id": "PL6JPO0lUorK",
    "outputId": "2f41e8aa-a426-40eb-fe47-d54a11cab183"
   },
   "outputs": [
    {
     "name": "stdout",
     "output_type": "stream",
     "text": [
      "<class 'pandas.core.frame.DataFrame'>\n",
      "RangeIndex: 11249 entries, 0 to 11248\n",
      "Data columns (total 10 columns):\n",
      " #   Column                   Non-Null Count  Dtype  \n",
      "---  ------                   --------------  -----  \n",
      " 0   employee_satisfaction    11249 non-null  float64\n",
      " 1   last_performance_rating  11249 non-null  float64\n",
      " 2   workload                 11249 non-null  int64  \n",
      " 3   avg_montly_hours         11249 non-null  int64  \n",
      " 4   tenure_years             11249 non-null  int64  \n",
      " 5   ergo_issues              11249 non-null  int64  \n",
      " 6   attrit                   11249 non-null  int64  \n",
      " 7   promo_in_last_5_years    11249 non-null  int64  \n",
      " 8   dept                     11249 non-null  object \n",
      " 9   salary                   11249 non-null  object \n",
      "dtypes: float64(2), int64(6), object(2)\n",
      "memory usage: 879.0+ KB\n"
     ]
    }
   ],
   "source": [
    "leave_df.info()"
   ]
  },
  {
   "cell_type": "code",
   "execution_count": 9,
   "metadata": {
    "colab": {
     "base_uri": "https://localhost:8080/"
    },
    "id": "IHQrlw5oUrES",
    "outputId": "f3eaeea6-b3c7-4954-9e57-78169963232c"
   },
   "outputs": [
    {
     "data": {
      "text/plain": [
       "employee_satisfaction      0\n",
       "last_performance_rating    0\n",
       "workload                   0\n",
       "avg_montly_hours           0\n",
       "tenure_years               0\n",
       "ergo_issues                0\n",
       "attrit                     0\n",
       "promo_in_last_5_years      0\n",
       "dept                       0\n",
       "salary                     0\n",
       "dtype: int64"
      ]
     },
     "execution_count": 9,
     "metadata": {
      "tags": []
     },
     "output_type": "execute_result"
    }
   ],
   "source": [
    "leave_df.isnull().sum()"
   ]
  },
  {
   "cell_type": "code",
   "execution_count": 10,
   "metadata": {
    "colab": {
     "base_uri": "https://localhost:8080/",
     "height": 294
    },
    "id": "rlBKKRd7U9Lg",
    "outputId": "8b232139-bf50-4489-b7f2-d182c553bc60"
   },
   "outputs": [
    {
     "data": {
      "text/html": [
       "<div>\n",
       "<style scoped>\n",
       "    .dataframe tbody tr th:only-of-type {\n",
       "        vertical-align: middle;\n",
       "    }\n",
       "\n",
       "    .dataframe tbody tr th {\n",
       "        vertical-align: top;\n",
       "    }\n",
       "\n",
       "    .dataframe thead th {\n",
       "        text-align: right;\n",
       "    }\n",
       "</style>\n",
       "<table border=\"1\" class=\"dataframe\">\n",
       "  <thead>\n",
       "    <tr style=\"text-align: right;\">\n",
       "      <th></th>\n",
       "      <th>employee_satisfaction</th>\n",
       "      <th>last_performance_rating</th>\n",
       "      <th>workload</th>\n",
       "      <th>avg_montly_hours</th>\n",
       "      <th>tenure_years</th>\n",
       "      <th>ergo_issues</th>\n",
       "      <th>attrit</th>\n",
       "      <th>promo_in_last_5_years</th>\n",
       "    </tr>\n",
       "  </thead>\n",
       "  <tbody>\n",
       "    <tr>\n",
       "      <th>count</th>\n",
       "      <td>11249.000000</td>\n",
       "      <td>11249.000000</td>\n",
       "      <td>11249.000000</td>\n",
       "      <td>11249.000000</td>\n",
       "      <td>11249.000000</td>\n",
       "      <td>11249.000000</td>\n",
       "      <td>11249.000000</td>\n",
       "      <td>11249.000000</td>\n",
       "    </tr>\n",
       "    <tr>\n",
       "      <th>mean</th>\n",
       "      <td>0.612957</td>\n",
       "      <td>0.716225</td>\n",
       "      <td>3.799716</td>\n",
       "      <td>201.176727</td>\n",
       "      <td>3.499600</td>\n",
       "      <td>0.144991</td>\n",
       "      <td>0.239577</td>\n",
       "      <td>0.021869</td>\n",
       "    </tr>\n",
       "    <tr>\n",
       "      <th>std</th>\n",
       "      <td>0.248235</td>\n",
       "      <td>0.171378</td>\n",
       "      <td>1.232190</td>\n",
       "      <td>50.058105</td>\n",
       "      <td>1.469892</td>\n",
       "      <td>0.352107</td>\n",
       "      <td>0.426844</td>\n",
       "      <td>0.146261</td>\n",
       "    </tr>\n",
       "    <tr>\n",
       "      <th>min</th>\n",
       "      <td>0.090000</td>\n",
       "      <td>0.360000</td>\n",
       "      <td>2.000000</td>\n",
       "      <td>96.000000</td>\n",
       "      <td>2.000000</td>\n",
       "      <td>0.000000</td>\n",
       "      <td>0.000000</td>\n",
       "      <td>0.000000</td>\n",
       "    </tr>\n",
       "    <tr>\n",
       "      <th>25%</th>\n",
       "      <td>0.440000</td>\n",
       "      <td>0.560000</td>\n",
       "      <td>3.000000</td>\n",
       "      <td>156.000000</td>\n",
       "      <td>3.000000</td>\n",
       "      <td>0.000000</td>\n",
       "      <td>0.000000</td>\n",
       "      <td>0.000000</td>\n",
       "    </tr>\n",
       "    <tr>\n",
       "      <th>50%</th>\n",
       "      <td>0.640000</td>\n",
       "      <td>0.720000</td>\n",
       "      <td>4.000000</td>\n",
       "      <td>201.000000</td>\n",
       "      <td>3.000000</td>\n",
       "      <td>0.000000</td>\n",
       "      <td>0.000000</td>\n",
       "      <td>0.000000</td>\n",
       "    </tr>\n",
       "    <tr>\n",
       "      <th>75%</th>\n",
       "      <td>0.820000</td>\n",
       "      <td>0.870000</td>\n",
       "      <td>5.000000</td>\n",
       "      <td>245.000000</td>\n",
       "      <td>4.000000</td>\n",
       "      <td>0.000000</td>\n",
       "      <td>0.000000</td>\n",
       "      <td>0.000000</td>\n",
       "    </tr>\n",
       "    <tr>\n",
       "      <th>max</th>\n",
       "      <td>1.000000</td>\n",
       "      <td>1.000000</td>\n",
       "      <td>7.000000</td>\n",
       "      <td>310.000000</td>\n",
       "      <td>10.000000</td>\n",
       "      <td>1.000000</td>\n",
       "      <td>1.000000</td>\n",
       "      <td>1.000000</td>\n",
       "    </tr>\n",
       "  </tbody>\n",
       "</table>\n",
       "</div>"
      ],
      "text/plain": [
       "       employee_satisfaction  ...  promo_in_last_5_years\n",
       "count           11249.000000  ...           11249.000000\n",
       "mean                0.612957  ...               0.021869\n",
       "std                 0.248235  ...               0.146261\n",
       "min                 0.090000  ...               0.000000\n",
       "25%                 0.440000  ...               0.000000\n",
       "50%                 0.640000  ...               0.000000\n",
       "75%                 0.820000  ...               0.000000\n",
       "max                 1.000000  ...               1.000000\n",
       "\n",
       "[8 rows x 8 columns]"
      ]
     },
     "execution_count": 10,
     "metadata": {
      "tags": []
     },
     "output_type": "execute_result"
    }
   ],
   "source": [
    "leave_df.describe()"
   ]
  },
  {
   "cell_type": "code",
   "execution_count": 11,
   "metadata": {
    "colab": {
     "base_uri": "https://localhost:8080/",
     "height": 171
    },
    "id": "4yvO0S1fVCKk",
    "outputId": "ee71be38-2912-49fa-f999-02775f7f0ec9"
   },
   "outputs": [
    {
     "data": {
      "text/html": [
       "<div>\n",
       "<style scoped>\n",
       "    .dataframe tbody tr th:only-of-type {\n",
       "        vertical-align: middle;\n",
       "    }\n",
       "\n",
       "    .dataframe tbody tr th {\n",
       "        vertical-align: top;\n",
       "    }\n",
       "\n",
       "    .dataframe thead th {\n",
       "        text-align: right;\n",
       "    }\n",
       "</style>\n",
       "<table border=\"1\" class=\"dataframe\">\n",
       "  <thead>\n",
       "    <tr style=\"text-align: right;\">\n",
       "      <th></th>\n",
       "      <th>dept</th>\n",
       "      <th>salary</th>\n",
       "    </tr>\n",
       "  </thead>\n",
       "  <tbody>\n",
       "    <tr>\n",
       "      <th>count</th>\n",
       "      <td>11249</td>\n",
       "      <td>11249</td>\n",
       "    </tr>\n",
       "    <tr>\n",
       "      <th>unique</th>\n",
       "      <td>10</td>\n",
       "      <td>3</td>\n",
       "    </tr>\n",
       "    <tr>\n",
       "      <th>top</th>\n",
       "      <td>SALES</td>\n",
       "      <td>SMALL</td>\n",
       "    </tr>\n",
       "    <tr>\n",
       "      <th>freq</th>\n",
       "      <td>3098</td>\n",
       "      <td>5445</td>\n",
       "    </tr>\n",
       "  </tbody>\n",
       "</table>\n",
       "</div>"
      ],
      "text/plain": [
       "         dept salary\n",
       "count   11249  11249\n",
       "unique     10      3\n",
       "top     SALES  SMALL\n",
       "freq     3098   5445"
      ]
     },
     "execution_count": 11,
     "metadata": {
      "tags": []
     },
     "output_type": "execute_result"
    }
   ],
   "source": [
    "obj_list = list(leave_df.select_dtypes(include = [\"object\"]).columns)\n",
    "leave_df[obj_list].describe()"
   ]
  },
  {
   "cell_type": "code",
   "execution_count": 12,
   "metadata": {
    "colab": {
     "base_uri": "https://localhost:8080/"
    },
    "id": "6Uhqns6OVPi9",
    "outputId": "dee7bae0-be40-4dfd-ea3e-4c3ff1fe5393"
   },
   "outputs": [
    {
     "data": {
      "text/plain": [
       "0    0.760423\n",
       "1    0.239577\n",
       "Name: attrit, dtype: float64"
      ]
     },
     "execution_count": 12,
     "metadata": {
      "tags": []
     },
     "output_type": "execute_result"
    }
   ],
   "source": [
    "# Show the percentage of our target column > check if it is inbalance\n",
    "leave_df[\"attrit\"].value_counts()/leave_df[\"attrit\"].value_counts().sum()"
   ]
  },
  {
   "cell_type": "markdown",
   "metadata": {
    "id": "n1Kg-61F0YeC"
   },
   "source": [
    "## Define exploration function (plot and table)"
   ]
  },
  {
   "cell_type": "code",
   "execution_count": 13,
   "metadata": {
    "id": "gz5qP5nuuvPk"
   },
   "outputs": [],
   "source": [
    "# Define function which generate coutplot of all the dataset\n",
    "def generate_countplot(df, target_column, color, palette):\n",
    "  for i in df.columns:\n",
    "    plt.figure()\n",
    "    sns.countplot(data=df, x=i, hue = target_column, color=color, palette=palette)"
   ]
  },
  {
   "cell_type": "code",
   "execution_count": 14,
   "metadata": {
    "id": "8vqkQcRhv5N-"
   },
   "outputs": [],
   "source": [
    "# Define function which generate percentage table\n",
    "def generate_perc_table(group1, group2, df):\n",
    "  count = df.groupby([group1, group2]).agg({group2:\"count\"})\n",
    "  perc = count.groupby(level=0).apply(lambda x:round(100*x/x.sum(),2))\n",
    "  print(perc)"
   ]
  },
  {
   "cell_type": "code",
   "execution_count": 15,
   "metadata": {
    "id": "CE-a54Ivv6Pu"
   },
   "outputs": [],
   "source": [
    "# Define function which generate percenrage table for all the dataset\n",
    "def generate_all_perc_table(df, target_column):\n",
    "  for i in df.columns:\n",
    "    generate_perc_table(i, target_column, df)\n"
   ]
  },
  {
   "cell_type": "code",
   "execution_count": 16,
   "metadata": {
    "id": "s8Jk2Vx9ZZyA"
   },
   "outputs": [],
   "source": [
    "# Define function which generate distplot\n",
    "# color ref: https://python-graph-gallery.com/100-calling-a-color-with-seaborn/\n",
    "def generate_distplot(df, target_column, compare_column, subset0_name, subset1_name):\n",
    "  subset0 = df[compare_column].loc[df[target_column] == 0]\n",
    "  subset1 = df[compare_column].loc[df[target_column] == 1]\n",
    "  sns.set_style('whitegrid')\n",
    "  ax = sns.distplot(subset0, hist=True, kde_kws=dict(linewidth=4), color = \"skyblue\" )\n",
    "  ax = sns.distplot(subset1, hist=True, kde_kws=dict(linewidth=4), color = \"sandybrown\")\n",
    "  plt.legend([subset0_name, subset1_name],fontsize=20)"
   ]
  },
  {
   "cell_type": "markdown",
   "metadata": {
    "id": "PSHUMzIj0lsx"
   },
   "source": [
    "## Explore the dataset"
   ]
  },
  {
   "cell_type": "code",
   "execution_count": 17,
   "metadata": {
    "colab": {
     "base_uri": "https://localhost:8080/",
     "height": 587
    },
    "id": "Wqr9fGTuay8r",
    "outputId": "8818bbfc-cb2d-4a29-e54d-b161c0fe3fdd"
   },
   "outputs": [
    {
     "name": "stderr",
     "output_type": "stream",
     "text": [
      "/usr/local/lib/python3.6/dist-packages/seaborn/distributions.py:2557: FutureWarning: `distplot` is a deprecated function and will be removed in a future version. Please adapt your code to use either `displot` (a figure-level function with similar flexibility) or `histplot` (an axes-level function for histograms).\n",
      "  warnings.warn(msg, FutureWarning)\n",
      "/usr/local/lib/python3.6/dist-packages/seaborn/distributions.py:2557: FutureWarning: `distplot` is a deprecated function and will be removed in a future version. Please adapt your code to use either `displot` (a figure-level function with similar flexibility) or `histplot` (an axes-level function for histograms).\n",
      "  warnings.warn(msg, FutureWarning)\n"
     ]
    },
    {
     "data": {
      "image/png": "[encoded data removed]",
      "text/plain": [
       "<Figure size 1728x576 with 1 Axes>"
      ]
     },
     "metadata": {
      "tags": []
     },
     "output_type": "display_data"
    }
   ],
   "source": [
    "generate_distplot(leave_df, \"attrit\", \"employee_satisfaction\", \"stay\", \"leave\")"
   ]
  },
  {
   "cell_type": "markdown",
   "metadata": {
    "id": "Q8B5I3Qd1Uy-"
   },
   "source": [
    "**Summary**\n",
    "- Most of the employees who stay in the company have satisfaction score between 0.5~1.\n",
    "- Empolyees who have satisfaction score:     \n",
    "(1) below 0.2   \n",
    "(2) between 0.35 to 0.5    \n",
    "(3) between 0.7 to 0.9     \n",
    "have more tendency to leave the company.\n",
    "- Higher satisfaction might be a factor that remains the current employees, vice versa.    \n",
    "- People who decide to leave the company might also have high satisfaction score, but leave the company because of other drivers (e.g. other great opportunties, higher salaries, geographical considerations...)"
   ]
  },
  {
   "cell_type": "code",
   "execution_count": 18,
   "metadata": {
    "colab": {
     "base_uri": "https://localhost:8080/",
     "height": 583
    },
    "id": "yj9AWVuq1A10",
    "outputId": "11f11511-e903-45cc-f70e-8359c5006cbb"
   },
   "outputs": [
    {
     "name": "stderr",
     "output_type": "stream",
     "text": [
      "/usr/local/lib/python3.6/dist-packages/seaborn/distributions.py:2557: FutureWarning: `distplot` is a deprecated function and will be removed in a future version. Please adapt your code to use either `displot` (a figure-level function with similar flexibility) or `histplot` (an axes-level function for histograms).\n",
      "  warnings.warn(msg, FutureWarning)\n",
      "/usr/local/lib/python3.6/dist-packages/seaborn/distributions.py:2557: FutureWarning: `distplot` is a deprecated function and will be removed in a future version. Please adapt your code to use either `displot` (a figure-level function with similar flexibility) or `histplot` (an axes-level function for histograms).\n",
      "  warnings.warn(msg, FutureWarning)\n"
     ]
    },
    {
     "data": {
      "image/png": "[encoded data removed]",
      "text/plain": [
       "<Figure size 1728x576 with 1 Axes>"
      ]
     },
     "metadata": {
      "tags": []
     },
     "output_type": "display_data"
    }
   ],
   "source": [
    "generate_distplot(leave_df, \"attrit\", \"last_performance_rating\", \"stay\", \"leave\")"
   ]
  },
  {
   "cell_type": "markdown",
   "metadata": {
    "id": "4QPb6yoS5luD"
   },
   "source": [
    "**Summary**      \n",
    "- Based on the density plot, we found that people who have lower last performance rating (less than 0.6) and people who have high last perofrmance rating (0.8~1) are more likely to leave the company.\n",
    "- Above two groups indicate that \"last performance rating\" might be a driver that caused people to leave. However, we do not know the exact reasoning.   \n",
    "- Possible reasons of leaving:    \n",
    "  - Maybe people who have low performance rate feel too stressful of their current job.\n",
    "  - Maybe people who have low performance rate feel their work did not earn the credit they deserved.\n",
    "  - Maybe people who have high performance rate have better opportunities outside of the company.\n",
    "  - Maybe people who have high performance rate already decided to leave after having the promotion.\n",
    "  - Might be other reasons, but we can't tell through the existing data.\n"
   ]
  },
  {
   "cell_type": "code",
   "execution_count": 19,
   "metadata": {
    "colab": {
     "base_uri": "https://localhost:8080/",
     "height": 583
    },
    "id": "UtHKsXQb_g1s",
    "outputId": "99b83c5d-e7d3-4140-9e38-54e07a1f5d3a"
   },
   "outputs": [
    {
     "name": "stderr",
     "output_type": "stream",
     "text": [
      "/usr/local/lib/python3.6/dist-packages/seaborn/distributions.py:2557: FutureWarning: `distplot` is a deprecated function and will be removed in a future version. Please adapt your code to use either `displot` (a figure-level function with similar flexibility) or `histplot` (an axes-level function for histograms).\n",
      "  warnings.warn(msg, FutureWarning)\n",
      "/usr/local/lib/python3.6/dist-packages/seaborn/distributions.py:2557: FutureWarning: `distplot` is a deprecated function and will be removed in a future version. Please adapt your code to use either `displot` (a figure-level function with similar flexibility) or `histplot` (an axes-level function for histograms).\n",
      "  warnings.warn(msg, FutureWarning)\n"
     ]
    },
    {
     "data": {
      "image/png": "[encoded data removed]",
      "text/plain": [
       "<Figure size 1728x576 with 1 Axes>"
      ]
     },
     "metadata": {
      "tags": []
     },
     "output_type": "display_data"
    }
   ],
   "source": [
    "generate_distplot(leave_df, \"attrit\", \"avg_montly_hours\", \"stay\", \"leave\")"
   ]
  },
  {
   "cell_type": "markdown",
   "metadata": {
    "id": "wnO5HUfp_yuB"
   },
   "source": [
    "**Summary**\n",
    "- Based on the density plot, we found that people who have lower average monthly hours (less than 180 hours) and people who have high average monthly hours (225~300 hours) are more likely to leave the company.\n",
    "- Above two groups indicate that \"average monthly hours\" might be a driver that caused people to leave. However, we do not know the exact reasoning.\n",
    "- These plot is similar as above \"last performance rating plot\". We might guess people who have higher average monthly hours might be the group which has higher performance rating, vice versa."
   ]
  },
  {
   "cell_type": "code",
   "execution_count": 20,
   "metadata": {
    "colab": {
     "base_uri": "https://localhost:8080/",
     "height": 1000
    },
    "id": "o1BGYxKMuweX",
    "outputId": "16e70a49-47be-48c2-f4f4-c5e287792ac3"
   },
   "outputs": [
    {
     "data": {
      "image/png": "[encoded data removed]",
      "text/plain": [
       "<Figure size 1728x576 with 1 Axes>"
      ]
     },
     "metadata": {
      "tags": []
     },
     "output_type": "display_data"
    },
    {
     "data": {
      "image/png": "[encoded data removed]",
      "text/plain": [
       "<Figure size 1728x576 with 1 Axes>"
      ]
     },
     "metadata": {
      "tags": []
     },
     "output_type": "display_data"
    },
    {
     "data": {
      "image/png": "[encoded data removed]",
      "text/plain": [
       "<Figure size 1728x576 with 1 Axes>"
      ]
     },
     "metadata": {
      "tags": []
     },
     "output_type": "display_data"
    },
    {
     "data": {
      "image/png": "[encoded data removed]",
      "text/plain": [
       "<Figure size 1728x576 with 1 Axes>"
      ]
     },
     "metadata": {
      "tags": []
     },
     "output_type": "display_data"
    },
    {
     "data": {
      "image/png": "[encoded data removed]",
      "text/plain": [
       "<Figure size 1728x576 with 1 Axes>"
      ]
     },
     "metadata": {
      "tags": []
     },
     "output_type": "display_data"
    },
    {
     "data": {
      "image/png": "[encoded data removed]",
      "text/plain": [
       "<Figure size 1728x576 with 1 Axes>"
      ]
     },
     "metadata": {
      "tags": []
     },
     "output_type": "display_data"
    },
    {
     "data": {
      "image/png": "[encoded data removed]",
      "text/plain": [
       "<Figure size 1728x576 with 1 Axes>"
      ]
     },
     "metadata": {
      "tags": []
     },
     "output_type": "display_data"
    },
    {
     "data": {
      "image/png": "[encoded data removed]",
      "text/plain": [
       "<Figure size 1728x576 with 1 Axes>"
      ]
     },
     "metadata": {
      "tags": []
     },
     "output_type": "display_data"
    },
    {
     "data": {
      "image/png": "[encoded data removed]",
      "text/plain": [
       "<Figure size 1728x576 with 1 Axes>"
      ]
     },
     "metadata": {
      "tags": []
     },
     "output_type": "display_data"
    },
    {
     "data": {
      "image/png": "[encoded data removed]",
      "text/plain": [
       "<Figure size 1728x576 with 1 Axes>"
      ]
     },
     "metadata": {
      "tags": []
     },
     "output_type": "display_data"
    }
   ],
   "source": [
    "generate_countplot(leave_df, \"attrit\", color = \"salmon\", palette = None)"
   ]
  },
  {
   "cell_type": "code",
   "execution_count": 21,
   "metadata": {
    "colab": {
     "base_uri": "https://localhost:8080/"
    },
    "id": "mIJsKL1OvWwO",
    "outputId": "ae980131-a2b3-4712-f047-f5bad55219f3"
   },
   "outputs": [
    {
     "name": "stdout",
     "output_type": "stream",
     "text": [
      "                              attrit\n",
      "employee_satisfaction attrit        \n",
      "0.09                  1        100.0\n",
      "0.10                  1        100.0\n",
      "0.11                  1        100.0\n",
      "0.12                  0         91.3\n",
      "                      1          8.7\n",
      "...                              ...\n",
      "0.96                  0        100.0\n",
      "0.97                  0        100.0\n",
      "0.98                  0        100.0\n",
      "0.99                  0        100.0\n",
      "1.00                  0        100.0\n",
      "\n",
      "[169 rows x 1 columns]\n",
      "                                attrit\n",
      "last_performance_rating attrit        \n",
      "0.36                    0       100.00\n",
      "0.37                    0       100.00\n",
      "0.38                    0       100.00\n",
      "0.39                    0       100.00\n",
      "0.40                    0       100.00\n",
      "...                                ...\n",
      "0.98                    1        20.94\n",
      "0.99                    0        72.86\n",
      "                        1        27.14\n",
      "1.00                    0        41.04\n",
      "                        1        58.96\n",
      "\n",
      "[119 rows x 1 columns]\n",
      "                 attrit\n",
      "workload attrit        \n",
      "2        0        35.09\n",
      "         1        64.91\n",
      "3        0        98.09\n",
      "         1         1.91\n",
      "4        0        90.37\n",
      "         1         9.63\n",
      "5        0        77.26\n",
      "         1        22.74\n",
      "6        0        43.96\n",
      "         1        56.04\n",
      "7        1       100.00\n",
      "                         attrit\n",
      "avg_montly_hours attrit        \n",
      "96               0        100.0\n",
      "97               0        100.0\n",
      "98               0        100.0\n",
      "99               0        100.0\n",
      "100              0        100.0\n",
      "...                         ...\n",
      "306              1        100.0\n",
      "307              1        100.0\n",
      "308              1        100.0\n",
      "309              1        100.0\n",
      "310              1        100.0\n",
      "\n",
      "[353 rows x 1 columns]\n",
      "                     attrit\n",
      "tenure_years attrit        \n",
      "2            0        98.27\n",
      "             1         1.73\n",
      "3            0        75.52\n",
      "             1        24.48\n",
      "4            0        65.16\n",
      "             1        34.84\n",
      "5            0        41.75\n",
      "             1        58.25\n",
      "6            0        70.77\n",
      "             1        29.23\n",
      "7            0       100.00\n",
      "8            0       100.00\n",
      "10           0       100.00\n",
      "                    attrit\n",
      "ergo_issues attrit        \n",
      "0           0        73.33\n",
      "            1        26.67\n",
      "1           0        92.03\n",
      "            1         7.97\n",
      "               attrit\n",
      "attrit attrit        \n",
      "0      0        100.0\n",
      "1      1        100.0\n",
      "                              attrit\n",
      "promo_in_last_5_years attrit        \n",
      "0                     0        75.61\n",
      "                      1        24.39\n",
      "1                     0        95.53\n",
      "                      1         4.47\n",
      "              attrit\n",
      "dept  attrit        \n",
      "ADMIN 0        75.39\n",
      "      1        24.61\n",
      "EXEC  0        86.53\n",
      "      1        13.47\n",
      "FIN   0        73.23\n",
      "      1        26.77\n",
      "HR    0        72.25\n",
      "      1        27.75\n",
      "IS    0        77.39\n",
      "      1        22.61\n",
      "MKT   0        77.71\n",
      "      1        22.29\n",
      "PM    0        77.27\n",
      "      1        22.73\n",
      "RTD   0        84.24\n",
      "      1        15.76\n",
      "SALES 0        74.95\n",
      "      1        25.05\n",
      "TECH  0        73.83\n",
      "      1        26.17\n",
      "               attrit\n",
      "salary attrit        \n",
      "LARGE  0        93.33\n",
      "       1         6.67\n",
      "MEDIUM 0        79.46\n",
      "       1        20.54\n",
      "SMALL  0        69.95\n",
      "       1        30.05\n"
     ]
    }
   ],
   "source": [
    "generate_all_perc_table(leave_df, \"attrit\")"
   ]
  },
  {
   "cell_type": "markdown",
   "metadata": {
    "id": "9O1bq8Uzip3j"
   },
   "source": [
    "**Summary**     \n",
    "According to our plot and percentage table, we found that **(1) salary (2) promotion in last 5 years** are two relevant atrributes to attrition.\n",
    "\n",
    "The percenrage for people who leaves:\n",
    "- Salary - Small salary: 30.5% ; Medium salary 20.54%; Large salary: 6.67%\n",
    "- Promotion - have promotion in last 5 years: 4.47%; no promotion in last years: 24.39%\n",
    "- People have small salary are more likely to leave.\n",
    "- People have no promotion in last years are more likely to leave.\n",
    "\n",
    "\n",
    "- Other facotrs, such as workload, ergo issues, tenure years do not show the \n",
    "obvious pattern that might cause people to leave.\n",
    "- If we look at the department attribute, we could find that people in EXEC, RTD department have the relatively low percentage to leave (13.47% and 15.75% respectively); while other departments have around 22~27% of people leaving the company."
   ]
  },
  {
   "cell_type": "markdown",
   "metadata": {
    "id": "W0RHqpdEH6dU"
   },
   "source": [
    "## Define function for running the logistic regression model"
   ]
  },
  {
   "cell_type": "code",
   "execution_count": 22,
   "metadata": {
    "id": "DPLd4MWQsj0d"
   },
   "outputs": [],
   "source": [
    "# Define function which find the best K (number of attributes) and the exact attributes as our training data\n",
    "def run_logistic_regression_with_different_k(df, target_column):\n",
    "    # Assign feature selection data \n",
    "    fs_y = df[target_column]\n",
    "    fs_X = df.loc[:, df.columns != target_column]\n",
    "    # Iterate with the number of X column \n",
    "    for i in range(fs_X.shape[1]):\n",
    "      lr_model = LogisticRegression(max_iter=1000)\n",
    "      rfe = RFE(lr_model, i+1)\n",
    "      fit = rfe.fit(fs_X, fs_y)\n",
    "      X_column = []\n",
    "      # Iterate with fit.ranking to get the best attribute\n",
    "      for j in range(len(fit.ranking_)):\n",
    "        if fit.ranking_[j] == 1: # fit.ranking_ number equals to 1 indicates this attribute we want to select\n",
    "          X_column.append(fs_X.columns[j])\n",
    "\n",
    "      # Ass\bign training and target data\n",
    "      X = fs_X[X_column].values\n",
    "      y = df[target_column]\n",
    "      # Train and fit model\n",
    "      X_train, X_test, y_train, y_test = train_test_split(X, y, test_size = 0.25, random_state = 42)\n",
    "      lr_model.fit(X_train, y_train)\n",
    "      y_predict = lr_model.predict(X_test)\n",
    "\n",
    "      # Model evaluation metrics\n",
    "      accuracy = accuracy_score(y_test, y_predict)\n",
    "      mse = mean_squared_error(y_test, y_predict)\n",
    "      cr_result = classification_report(y_test, y_predict)\n",
    "      cv_scores = cross_val_score(lr_model, X, y, scoring='accuracy', cv=10)\n",
    "\n",
    "      print(\"Select {} attributes as training data\".format(i+1) )\n",
    "      print(\"The training attributes includes:\", X_column) \n",
    "      print(\"Model performance as below:\")\n",
    "      print(\"(1) Classification_report:\")\n",
    "      print(cr_result)\n",
    "      print(\"(2) Accuracy:\", accuracy) \n",
    "      print(\"(3) MSE:\", mse)\n",
    "      print(\"(4) Cross validation scores\", cv_scores)\n",
    "      print(\"(5) Cross validation mean scores\", cv_scores.mean())\n",
    "      print(\"----------------------------------------------------------\")"
   ]
  },
  {
   "cell_type": "code",
   "execution_count": 23,
   "metadata": {
    "colab": {
     "base_uri": "https://localhost:8080/",
     "height": 141
    },
    "id": "iUM9KcyyIcQR",
    "outputId": "cb32789b-048c-4805-eb35-7c696a8cf6de"
   },
   "outputs": [
    {
     "data": {
      "text/html": [
       "<div>\n",
       "<style scoped>\n",
       "    .dataframe tbody tr th:only-of-type {\n",
       "        vertical-align: middle;\n",
       "    }\n",
       "\n",
       "    .dataframe tbody tr th {\n",
       "        vertical-align: top;\n",
       "    }\n",
       "\n",
       "    .dataframe thead th {\n",
       "        text-align: right;\n",
       "    }\n",
       "</style>\n",
       "<table border=\"1\" class=\"dataframe\">\n",
       "  <thead>\n",
       "    <tr style=\"text-align: right;\">\n",
       "      <th></th>\n",
       "      <th>employee_satisfaction</th>\n",
       "      <th>last_performance_rating</th>\n",
       "      <th>workload</th>\n",
       "      <th>avg_montly_hours</th>\n",
       "      <th>tenure_years</th>\n",
       "      <th>ergo_issues</th>\n",
       "      <th>attrit</th>\n",
       "      <th>promo_in_last_5_years</th>\n",
       "      <th>dept</th>\n",
       "      <th>salary</th>\n",
       "    </tr>\n",
       "  </thead>\n",
       "  <tbody>\n",
       "    <tr>\n",
       "      <th>0</th>\n",
       "      <td>0.82</td>\n",
       "      <td>0.97</td>\n",
       "      <td>3</td>\n",
       "      <td>244</td>\n",
       "      <td>5</td>\n",
       "      <td>0</td>\n",
       "      <td>0</td>\n",
       "      <td>0</td>\n",
       "      <td>SALES</td>\n",
       "      <td>MEDIUM</td>\n",
       "    </tr>\n",
       "    <tr>\n",
       "      <th>1</th>\n",
       "      <td>0.75</td>\n",
       "      <td>0.81</td>\n",
       "      <td>2</td>\n",
       "      <td>247</td>\n",
       "      <td>4</td>\n",
       "      <td>0</td>\n",
       "      <td>0</td>\n",
       "      <td>0</td>\n",
       "      <td>HR</td>\n",
       "      <td>SMALL</td>\n",
       "    </tr>\n",
       "    <tr>\n",
       "      <th>2</th>\n",
       "      <td>0.54</td>\n",
       "      <td>0.81</td>\n",
       "      <td>4</td>\n",
       "      <td>257</td>\n",
       "      <td>2</td>\n",
       "      <td>0</td>\n",
       "      <td>0</td>\n",
       "      <td>0</td>\n",
       "      <td>ADMIN</td>\n",
       "      <td>SMALL</td>\n",
       "    </tr>\n",
       "  </tbody>\n",
       "</table>\n",
       "</div>"
      ],
      "text/plain": [
       "   employee_satisfaction  last_performance_rating  ...   dept  salary\n",
       "0                   0.82                     0.97  ...  SALES  MEDIUM\n",
       "1                   0.75                     0.81  ...     HR   SMALL\n",
       "2                   0.54                     0.81  ...  ADMIN   SMALL\n",
       "\n",
       "[3 rows x 10 columns]"
      ]
     },
     "execution_count": 23,
     "metadata": {
      "tags": []
     },
     "output_type": "execute_result"
    }
   ],
   "source": [
    "leave_df.head(3)"
   ]
  },
  {
   "cell_type": "code",
   "execution_count": 24,
   "metadata": {
    "id": "eNb_8YPGIZMi"
   },
   "outputs": [],
   "source": [
    "# create dummy for categorical column\n",
    "leave_df = pd.get_dummies(data=leave_df, columns=[\"dept\",\"salary\"])"
   ]
  },
  {
   "cell_type": "code",
   "execution_count": 25,
   "metadata": {
    "colab": {
     "base_uri": "https://localhost:8080/",
     "height": 161
    },
    "id": "JP15LjduJG2E",
    "outputId": "6d532d8c-0b37-4274-a5d8-42f5871f1656"
   },
   "outputs": [
    {
     "data": {
      "text/html": [
       "<div>\n",
       "<style scoped>\n",
       "    .dataframe tbody tr th:only-of-type {\n",
       "        vertical-align: middle;\n",
       "    }\n",
       "\n",
       "    .dataframe tbody tr th {\n",
       "        vertical-align: top;\n",
       "    }\n",
       "\n",
       "    .dataframe thead th {\n",
       "        text-align: right;\n",
       "    }\n",
       "</style>\n",
       "<table border=\"1\" class=\"dataframe\">\n",
       "  <thead>\n",
       "    <tr style=\"text-align: right;\">\n",
       "      <th></th>\n",
       "      <th>employee_satisfaction</th>\n",
       "      <th>last_performance_rating</th>\n",
       "      <th>workload</th>\n",
       "      <th>avg_montly_hours</th>\n",
       "      <th>tenure_years</th>\n",
       "      <th>ergo_issues</th>\n",
       "      <th>attrit</th>\n",
       "      <th>promo_in_last_5_years</th>\n",
       "      <th>dept_ADMIN</th>\n",
       "      <th>dept_EXEC</th>\n",
       "      <th>dept_FIN</th>\n",
       "      <th>dept_HR</th>\n",
       "      <th>dept_IS</th>\n",
       "      <th>dept_MKT</th>\n",
       "      <th>dept_PM</th>\n",
       "      <th>dept_RTD</th>\n",
       "      <th>dept_SALES</th>\n",
       "      <th>dept_TECH</th>\n",
       "      <th>salary_LARGE</th>\n",
       "      <th>salary_MEDIUM</th>\n",
       "      <th>salary_SMALL</th>\n",
       "    </tr>\n",
       "  </thead>\n",
       "  <tbody>\n",
       "    <tr>\n",
       "      <th>0</th>\n",
       "      <td>0.82</td>\n",
       "      <td>0.97</td>\n",
       "      <td>3</td>\n",
       "      <td>244</td>\n",
       "      <td>5</td>\n",
       "      <td>0</td>\n",
       "      <td>0</td>\n",
       "      <td>0</td>\n",
       "      <td>0</td>\n",
       "      <td>0</td>\n",
       "      <td>0</td>\n",
       "      <td>0</td>\n",
       "      <td>0</td>\n",
       "      <td>0</td>\n",
       "      <td>0</td>\n",
       "      <td>0</td>\n",
       "      <td>1</td>\n",
       "      <td>0</td>\n",
       "      <td>0</td>\n",
       "      <td>1</td>\n",
       "      <td>0</td>\n",
       "    </tr>\n",
       "    <tr>\n",
       "      <th>1</th>\n",
       "      <td>0.75</td>\n",
       "      <td>0.81</td>\n",
       "      <td>2</td>\n",
       "      <td>247</td>\n",
       "      <td>4</td>\n",
       "      <td>0</td>\n",
       "      <td>0</td>\n",
       "      <td>0</td>\n",
       "      <td>0</td>\n",
       "      <td>0</td>\n",
       "      <td>0</td>\n",
       "      <td>1</td>\n",
       "      <td>0</td>\n",
       "      <td>0</td>\n",
       "      <td>0</td>\n",
       "      <td>0</td>\n",
       "      <td>0</td>\n",
       "      <td>0</td>\n",
       "      <td>0</td>\n",
       "      <td>0</td>\n",
       "      <td>1</td>\n",
       "    </tr>\n",
       "    <tr>\n",
       "      <th>2</th>\n",
       "      <td>0.54</td>\n",
       "      <td>0.81</td>\n",
       "      <td>4</td>\n",
       "      <td>257</td>\n",
       "      <td>2</td>\n",
       "      <td>0</td>\n",
       "      <td>0</td>\n",
       "      <td>0</td>\n",
       "      <td>1</td>\n",
       "      <td>0</td>\n",
       "      <td>0</td>\n",
       "      <td>0</td>\n",
       "      <td>0</td>\n",
       "      <td>0</td>\n",
       "      <td>0</td>\n",
       "      <td>0</td>\n",
       "      <td>0</td>\n",
       "      <td>0</td>\n",
       "      <td>0</td>\n",
       "      <td>0</td>\n",
       "      <td>1</td>\n",
       "    </tr>\n",
       "  </tbody>\n",
       "</table>\n",
       "</div>"
      ],
      "text/plain": [
       "   employee_satisfaction  last_performance_rating  ...  salary_MEDIUM  salary_SMALL\n",
       "0                   0.82                     0.97  ...              1             0\n",
       "1                   0.75                     0.81  ...              0             1\n",
       "2                   0.54                     0.81  ...              0             1\n",
       "\n",
       "[3 rows x 21 columns]"
      ]
     },
     "execution_count": 25,
     "metadata": {
      "tags": []
     },
     "output_type": "execute_result"
    }
   ],
   "source": [
    "leave_df.head(3)"
   ]
  },
  {
   "cell_type": "code",
   "execution_count": 26,
   "metadata": {
    "colab": {
     "base_uri": "https://localhost:8080/"
    },
    "id": "VU43wBWNslLO",
    "outputId": "d27156cd-ac15-4b98-9993-8cb6b4ca34b1"
   },
   "outputs": [
    {
     "name": "stdout",
     "output_type": "stream",
     "text": [
      "Select 1 attributes as training data\n",
      "The training attributes includes: ['employee_satisfaction']\n",
      "Model performance as below:\n",
      "(1) Classification_report:\n",
      "              precision    recall  f1-score   support\n",
      "\n",
      "           0       0.81      0.93      0.87      2148\n",
      "           1       0.56      0.27      0.37       665\n",
      "\n",
      "    accuracy                           0.78      2813\n",
      "   macro avg       0.68      0.60      0.62      2813\n",
      "weighted avg       0.75      0.78      0.75      2813\n",
      "\n",
      "(2) Accuracy: 0.7778172769285461\n",
      "(3) MSE: 0.22218272307145395\n",
      "(4) Cross validation scores [0.77422222 0.77333333 0.77422222 0.77155556 0.76266667 0.77244444\n",
      " 0.76088889 0.76888889 0.76266667 0.76779359]\n",
      "(5) Cross validation mean scores 0.768868248319494\n",
      "----------------------------------------------------------\n",
      "Select 2 attributes as training data\n",
      "The training attributes includes: ['employee_satisfaction', 'promo_in_last_5_years']\n",
      "Model performance as below:\n",
      "(1) Classification_report:\n",
      "              precision    recall  f1-score   support\n",
      "\n",
      "           0       0.81      0.94      0.87      2148\n",
      "           1       0.57      0.27      0.37       665\n",
      "\n",
      "    accuracy                           0.78      2813\n",
      "   macro avg       0.69      0.60      0.62      2813\n",
      "weighted avg       0.75      0.78      0.75      2813\n",
      "\n",
      "(2) Accuracy: 0.778883753999289\n",
      "(3) MSE: 0.22111624600071098\n",
      "(4) Cross validation scores [0.77333333 0.77333333 0.776      0.77333333 0.76266667 0.77244444\n",
      " 0.76177778 0.76977778 0.76355556 0.76601423]\n",
      "(5) Cross validation mean scores 0.7692236457097666\n",
      "----------------------------------------------------------\n",
      "Select 3 attributes as training data\n",
      "The training attributes includes: ['employee_satisfaction', 'promo_in_last_5_years', 'salary_LARGE']\n",
      "Model performance as below:\n",
      "(1) Classification_report:\n",
      "              precision    recall  f1-score   support\n",
      "\n",
      "           0       0.81      0.94      0.87      2148\n",
      "           1       0.57      0.27      0.37       665\n",
      "\n",
      "    accuracy                           0.78      2813\n",
      "   macro avg       0.69      0.60      0.62      2813\n",
      "weighted avg       0.75      0.78      0.75      2813\n",
      "\n",
      "(2) Accuracy: 0.779950231070032\n",
      "(3) MSE: 0.220049768929968\n",
      "(4) Cross validation scores [0.77511111 0.77333333 0.776      0.77777778 0.76711111 0.76977778\n",
      " 0.76088889 0.77422222 0.76622222 0.77046263]\n",
      "(5) Cross validation mean scores 0.7710907077896401\n",
      "----------------------------------------------------------\n",
      "Select 4 attributes as training data\n",
      "The training attributes includes: ['employee_satisfaction', 'ergo_issues', 'promo_in_last_5_years', 'salary_LARGE']\n",
      "Model performance as below:\n",
      "(1) Classification_report:\n",
      "              precision    recall  f1-score   support\n",
      "\n",
      "           0       0.80      0.95      0.87      2148\n",
      "           1       0.59      0.25      0.35       665\n",
      "\n",
      "    accuracy                           0.78      2813\n",
      "   macro avg       0.70      0.60      0.61      2813\n",
      "weighted avg       0.75      0.78      0.75      2813\n",
      "\n",
      "(2) Accuracy: 0.782083185211518\n",
      "(3) MSE: 0.21791681478848204\n",
      "(4) Cross validation scores [0.77155556 0.776      0.78044444 0.77866667 0.76977778 0.776\n",
      " 0.76088889 0.77955556 0.77155556 0.7588968 ]\n",
      "(5) Cross validation mean scores 0.7723341241597469\n",
      "----------------------------------------------------------\n",
      "Select 5 attributes as training data\n",
      "The training attributes includes: ['employee_satisfaction', 'last_performance_rating', 'ergo_issues', 'promo_in_last_5_years', 'salary_LARGE']\n",
      "Model performance as below:\n",
      "(1) Classification_report:\n",
      "              precision    recall  f1-score   support\n",
      "\n",
      "           0       0.80      0.95      0.87      2148\n",
      "           1       0.59      0.25      0.35       665\n",
      "\n",
      "    accuracy                           0.78      2813\n",
      "   macro avg       0.70      0.60      0.61      2813\n",
      "weighted avg       0.75      0.78      0.75      2813\n",
      "\n",
      "(2) Accuracy: 0.7813722004976893\n",
      "(3) MSE: 0.2186277995023107\n",
      "(4) Cross validation scores [0.77422222 0.77333333 0.78311111 0.77955556 0.77422222 0.77511111\n",
      " 0.76444444 0.78044444 0.77155556 0.7633452 ]\n",
      "(5) Cross validation mean scores 0.7739345195729538\n",
      "----------------------------------------------------------\n",
      "Select 6 attributes as training data\n",
      "The training attributes includes: ['employee_satisfaction', 'last_performance_rating', 'ergo_issues', 'promo_in_last_5_years', 'dept_RTD', 'salary_LARGE']\n",
      "Model performance as below:\n",
      "(1) Classification_report:\n",
      "              precision    recall  f1-score   support\n",
      "\n",
      "           0       0.80      0.95      0.87      2148\n",
      "           1       0.60      0.25      0.35       665\n",
      "\n",
      "    accuracy                           0.78      2813\n",
      "   macro avg       0.70      0.60      0.61      2813\n",
      "weighted avg       0.75      0.78      0.75      2813\n",
      "\n",
      "(2) Accuracy: 0.7827941699253466\n",
      "(3) MSE: 0.21720583007465338\n",
      "(4) Cross validation scores [0.776      0.77511111 0.78488889 0.78044444 0.776      0.77422222\n",
      " 0.76533333 0.78488889 0.77333333 0.76156584]\n",
      "(5) Cross validation mean scores 0.7751788058521154\n",
      "----------------------------------------------------------\n",
      "Select 7 attributes as training data\n",
      "The training attributes includes: ['employee_satisfaction', 'last_performance_rating', 'ergo_issues', 'promo_in_last_5_years', 'dept_RTD', 'salary_LARGE', 'salary_SMALL']\n",
      "Model performance as below:\n",
      "(1) Classification_report:\n",
      "              precision    recall  f1-score   support\n",
      "\n",
      "           0       0.80      0.94      0.87      2148\n",
      "           1       0.58      0.25      0.35       665\n",
      "\n",
      "    accuracy                           0.78      2813\n",
      "   macro avg       0.69      0.60      0.61      2813\n",
      "weighted avg       0.75      0.78      0.75      2813\n",
      "\n",
      "(2) Accuracy: 0.7803057234269464\n",
      "(3) MSE: 0.21969427657305368\n",
      "(4) Cross validation scores [0.78044444 0.77866667 0.78222222 0.78311111 0.77688889 0.77688889\n",
      " 0.76622222 0.77955556 0.77066667 0.75800712]\n",
      "(5) Cross validation mean scores 0.775267378410439\n",
      "----------------------------------------------------------\n",
      "Select 8 attributes as training data\n",
      "The training attributes includes: ['employee_satisfaction', 'last_performance_rating', 'ergo_issues', 'promo_in_last_5_years', 'dept_EXEC', 'dept_RTD', 'salary_LARGE', 'salary_SMALL']\n",
      "Model performance as below:\n",
      "(1) Classification_report:\n",
      "              precision    recall  f1-score   support\n",
      "\n",
      "           0       0.80      0.94      0.87      2148\n",
      "           1       0.58      0.25      0.35       665\n",
      "\n",
      "    accuracy                           0.78      2813\n",
      "   macro avg       0.69      0.60      0.61      2813\n",
      "weighted avg       0.75      0.78      0.75      2813\n",
      "\n",
      "(2) Accuracy: 0.7803057234269464\n",
      "(3) MSE: 0.21969427657305368\n",
      "(4) Cross validation scores [0.78133333 0.77688889 0.78133333 0.78311111 0.77688889 0.77511111\n",
      " 0.76622222 0.78133333 0.77066667 0.75800712]\n",
      "(5) Cross validation mean scores 0.7750896006326612\n",
      "----------------------------------------------------------\n",
      "Select 9 attributes as training data\n",
      "The training attributes includes: ['employee_satisfaction', 'last_performance_rating', 'ergo_issues', 'promo_in_last_5_years', 'dept_EXEC', 'dept_RTD', 'salary_LARGE', 'salary_MEDIUM', 'salary_SMALL']\n",
      "Model performance as below:\n",
      "(1) Classification_report:\n",
      "              precision    recall  f1-score   support\n",
      "\n",
      "           0       0.80      0.94      0.87      2148\n",
      "           1       0.58      0.25      0.35       665\n",
      "\n",
      "    accuracy                           0.78      2813\n",
      "   macro avg       0.69      0.60      0.61      2813\n",
      "weighted avg       0.75      0.78      0.75      2813\n",
      "\n",
      "(2) Accuracy: 0.7803057234269464\n",
      "(3) MSE: 0.21969427657305368\n",
      "(4) Cross validation scores [0.78133333 0.77688889 0.78133333 0.78311111 0.77688889 0.77511111\n",
      " 0.76622222 0.78133333 0.77066667 0.75800712]\n",
      "(5) Cross validation mean scores 0.7750896006326612\n",
      "----------------------------------------------------------\n",
      "Select 10 attributes as training data\n",
      "The training attributes includes: ['employee_satisfaction', 'last_performance_rating', 'tenure_years', 'ergo_issues', 'promo_in_last_5_years', 'dept_EXEC', 'dept_RTD', 'salary_LARGE', 'salary_MEDIUM', 'salary_SMALL']\n",
      "Model performance as below:\n",
      "(1) Classification_report:\n",
      "              precision    recall  f1-score   support\n",
      "\n",
      "           0       0.80      0.93      0.86      2148\n",
      "           1       0.53      0.26      0.35       665\n",
      "\n",
      "    accuracy                           0.77      2813\n",
      "   macro avg       0.67      0.59      0.61      2813\n",
      "weighted avg       0.74      0.77      0.74      2813\n",
      "\n",
      "(2) Accuracy: 0.7710629221471739\n",
      "(3) MSE: 0.22893707785282616\n",
      "(4) Cross validation scores [0.76977778 0.76355556 0.77422222 0.77511111 0.76622222 0.76711111\n",
      " 0.76088889 0.77955556 0.76       0.75711744]\n",
      "(5) Cross validation mean scores 0.7673561882166864\n",
      "----------------------------------------------------------\n",
      "Select 11 attributes as training data\n",
      "The training attributes includes: ['employee_satisfaction', 'last_performance_rating', 'workload', 'tenure_years', 'ergo_issues', 'promo_in_last_5_years', 'dept_EXEC', 'dept_RTD', 'salary_LARGE', 'salary_MEDIUM', 'salary_SMALL']\n",
      "Model performance as below:\n",
      "(1) Classification_report:\n",
      "              precision    recall  f1-score   support\n",
      "\n",
      "           0       0.83      0.93      0.87      2148\n",
      "           1       0.61      0.38      0.47       665\n",
      "\n",
      "    accuracy                           0.80      2813\n",
      "   macro avg       0.72      0.66      0.67      2813\n",
      "weighted avg       0.78      0.80      0.78      2813\n",
      "\n",
      "(2) Accuracy: 0.797369356558834\n",
      "(3) MSE: 0.20263064344116602\n",
      "(4) Cross validation scores [0.80088889 0.79466667 0.80177778 0.79644444 0.79822222 0.78933333\n",
      " 0.792      0.80177778 0.78666667 0.78113879]\n",
      "(5) Cross validation mean scores 0.7942916567813366\n",
      "----------------------------------------------------------\n",
      "Select 12 attributes as training data\n",
      "The training attributes includes: ['employee_satisfaction', 'last_performance_rating', 'workload', 'tenure_years', 'ergo_issues', 'promo_in_last_5_years', 'dept_EXEC', 'dept_IS', 'dept_RTD', 'salary_LARGE', 'salary_MEDIUM', 'salary_SMALL']\n",
      "Model performance as below:\n",
      "(1) Classification_report:\n",
      "              precision    recall  f1-score   support\n",
      "\n",
      "           0       0.83      0.93      0.87      2148\n",
      "           1       0.61      0.37      0.46       665\n",
      "\n",
      "    accuracy                           0.80      2813\n",
      "   macro avg       0.72      0.65      0.67      2813\n",
      "weighted avg       0.78      0.80      0.78      2813\n",
      "\n",
      "(2) Accuracy: 0.7955918947742624\n",
      "(3) MSE: 0.20440810522573766\n",
      "(4) Cross validation scores [0.80088889 0.79555556 0.79911111 0.79733333 0.79466667 0.78755556\n",
      " 0.79288889 0.80088889 0.78222222 0.78113879]\n",
      "(5) Cross validation mean scores 0.7932249901146698\n",
      "----------------------------------------------------------\n",
      "Select 13 attributes as training data\n",
      "The training attributes includes: ['employee_satisfaction', 'last_performance_rating', 'workload', 'tenure_years', 'ergo_issues', 'promo_in_last_5_years', 'dept_EXEC', 'dept_HR', 'dept_IS', 'dept_RTD', 'salary_LARGE', 'salary_MEDIUM', 'salary_SMALL']\n",
      "Model performance as below:\n",
      "(1) Classification_report:\n",
      "              precision    recall  f1-score   support\n",
      "\n",
      "           0       0.83      0.93      0.87      2148\n",
      "           1       0.61      0.37      0.46       665\n",
      "\n",
      "    accuracy                           0.80      2813\n",
      "   macro avg       0.72      0.65      0.67      2813\n",
      "weighted avg       0.78      0.80      0.78      2813\n",
      "\n",
      "(2) Accuracy: 0.795236402417348\n",
      "(3) MSE: 0.20476359758265197\n",
      "(4) Cross validation scores [0.80177778 0.79644444 0.80088889 0.79733333 0.79377778 0.78844444\n",
      " 0.79288889 0.80177778 0.78133333 0.77758007]\n",
      "(5) Cross validation mean scores 0.7932246737841043\n",
      "----------------------------------------------------------\n",
      "Select 14 attributes as training data\n",
      "The training attributes includes: ['employee_satisfaction', 'last_performance_rating', 'workload', 'tenure_years', 'ergo_issues', 'promo_in_last_5_years', 'dept_EXEC', 'dept_HR', 'dept_IS', 'dept_RTD', 'dept_TECH', 'salary_LARGE', 'salary_MEDIUM', 'salary_SMALL']\n",
      "Model performance as below:\n",
      "(1) Classification_report:\n",
      "              precision    recall  f1-score   support\n",
      "\n",
      "           0       0.83      0.93      0.88      2148\n",
      "           1       0.62      0.38      0.47       665\n",
      "\n",
      "    accuracy                           0.80      2813\n",
      "   macro avg       0.72      0.65      0.67      2813\n",
      "weighted avg       0.78      0.80      0.78      2813\n",
      "\n",
      "(2) Accuracy: 0.7980803412726626\n",
      "(3) MSE: 0.20191965872733736\n",
      "(4) Cross validation scores [0.80088889 0.79022222 0.79822222 0.79644444 0.79111111 0.78666667\n",
      " 0.79466667 0.80355556 0.78488889 0.77669039]\n",
      "(5) Cross validation mean scores 0.7923357058125742\n",
      "----------------------------------------------------------\n",
      "Select 15 attributes as training data\n",
      "The training attributes includes: ['employee_satisfaction', 'last_performance_rating', 'workload', 'tenure_years', 'ergo_issues', 'promo_in_last_5_years', 'dept_ADMIN', 'dept_EXEC', 'dept_HR', 'dept_IS', 'dept_RTD', 'dept_TECH', 'salary_LARGE', 'salary_MEDIUM', 'salary_SMALL']\n",
      "Model performance as below:\n",
      "(1) Classification_report:\n",
      "              precision    recall  f1-score   support\n",
      "\n",
      "           0       0.83      0.93      0.88      2148\n",
      "           1       0.62      0.38      0.47       665\n",
      "\n",
      "    accuracy                           0.80      2813\n",
      "   macro avg       0.72      0.65      0.67      2813\n",
      "weighted avg       0.78      0.80      0.78      2813\n",
      "\n",
      "(2) Accuracy: 0.7980803412726626\n",
      "(3) MSE: 0.20191965872733736\n",
      "(4) Cross validation scores [0.80266667 0.79111111 0.79822222 0.79911111 0.79111111 0.78666667\n",
      " 0.79377778 0.79911111 0.77955556 0.77758007]\n",
      "(5) Cross validation mean scores 0.791891340450771\n",
      "----------------------------------------------------------\n",
      "Select 16 attributes as training data\n",
      "The training attributes includes: ['employee_satisfaction', 'last_performance_rating', 'workload', 'tenure_years', 'ergo_issues', 'promo_in_last_5_years', 'dept_ADMIN', 'dept_EXEC', 'dept_FIN', 'dept_HR', 'dept_IS', 'dept_RTD', 'dept_TECH', 'salary_LARGE', 'salary_MEDIUM', 'salary_SMALL']\n",
      "Model performance as below:\n",
      "(1) Classification_report:\n",
      "              precision    recall  f1-score   support\n",
      "\n",
      "           0       0.83      0.93      0.87      2148\n",
      "           1       0.62      0.38      0.47       665\n",
      "\n",
      "    accuracy                           0.80      2813\n",
      "   macro avg       0.72      0.65      0.67      2813\n",
      "weighted avg       0.78      0.80      0.78      2813\n",
      "\n",
      "(2) Accuracy: 0.797369356558834\n",
      "(3) MSE: 0.20263064344116602\n",
      "(4) Cross validation scores [0.80177778 0.79111111 0.79911111 0.79911111 0.79111111 0.78755556\n",
      " 0.79466667 0.79822222 0.77955556 0.77669039]\n",
      "(5) Cross validation mean scores 0.7918912613681297\n",
      "----------------------------------------------------------\n",
      "Select 17 attributes as training data\n",
      "The training attributes includes: ['employee_satisfaction', 'last_performance_rating', 'workload', 'tenure_years', 'ergo_issues', 'promo_in_last_5_years', 'dept_ADMIN', 'dept_EXEC', 'dept_FIN', 'dept_HR', 'dept_IS', 'dept_RTD', 'dept_SALES', 'dept_TECH', 'salary_LARGE', 'salary_MEDIUM', 'salary_SMALL']\n",
      "Model performance as below:\n",
      "(1) Classification_report:\n",
      "              precision    recall  f1-score   support\n",
      "\n",
      "           0       0.83      0.93      0.87      2148\n",
      "           1       0.62      0.37      0.46       665\n",
      "\n",
      "    accuracy                           0.80      2813\n",
      "   macro avg       0.72      0.65      0.67      2813\n",
      "weighted avg       0.78      0.80      0.78      2813\n",
      "\n",
      "(2) Accuracy: 0.7966583718450053\n",
      "(3) MSE: 0.20334162815499468\n",
      "(4) Cross validation scores [0.80266667 0.78755556 0.79377778 0.79644444 0.79111111 0.792\n",
      " 0.79466667 0.80088889 0.77955556 0.77935943]\n",
      "(5) Cross validation mean scores 0.7918026097271649\n",
      "----------------------------------------------------------\n",
      "Select 18 attributes as training data\n",
      "The training attributes includes: ['employee_satisfaction', 'last_performance_rating', 'workload', 'tenure_years', 'ergo_issues', 'promo_in_last_5_years', 'dept_ADMIN', 'dept_EXEC', 'dept_FIN', 'dept_HR', 'dept_IS', 'dept_PM', 'dept_RTD', 'dept_SALES', 'dept_TECH', 'salary_LARGE', 'salary_MEDIUM', 'salary_SMALL']\n",
      "Model performance as below:\n",
      "(1) Classification_report:\n",
      "              precision    recall  f1-score   support\n",
      "\n",
      "           0       0.83      0.93      0.87      2148\n",
      "           1       0.62      0.37      0.46       665\n",
      "\n",
      "    accuracy                           0.80      2813\n",
      "   macro avg       0.72      0.65      0.67      2813\n",
      "weighted avg       0.78      0.80      0.78      2813\n",
      "\n",
      "(2) Accuracy: 0.7966583718450053\n",
      "(3) MSE: 0.20334162815499468\n",
      "(4) Cross validation scores [0.80266667 0.79022222 0.79377778 0.79644444 0.79111111 0.792\n",
      " 0.79377778 0.80088889 0.77955556 0.78024911]\n",
      "(5) Cross validation mean scores 0.792069355476473\n",
      "----------------------------------------------------------\n",
      "Select 19 attributes as training data\n",
      "The training attributes includes: ['employee_satisfaction', 'last_performance_rating', 'workload', 'avg_montly_hours', 'tenure_years', 'ergo_issues', 'promo_in_last_5_years', 'dept_ADMIN', 'dept_EXEC', 'dept_FIN', 'dept_HR', 'dept_IS', 'dept_PM', 'dept_RTD', 'dept_SALES', 'dept_TECH', 'salary_LARGE', 'salary_MEDIUM', 'salary_SMALL']\n",
      "Model performance as below:\n",
      "(1) Classification_report:\n",
      "              precision    recall  f1-score   support\n",
      "\n",
      "           0       0.82      0.93      0.87      2148\n",
      "           1       0.60      0.34      0.43       665\n",
      "\n",
      "    accuracy                           0.79      2813\n",
      "   macro avg       0.71      0.63      0.65      2813\n",
      "weighted avg       0.77      0.79      0.77      2813\n",
      "\n",
      "(2) Accuracy: 0.7895485247067188\n",
      "(3) MSE: 0.2104514752932812\n",
      "(4) Cross validation scores [0.80177778 0.78577778 0.79022222 0.792      0.78222222 0.78488889\n",
      " 0.78311111 0.792      0.77511111 0.78113879]\n",
      "(5) Cross validation mean scores 0.7868249901146699\n",
      "----------------------------------------------------------\n",
      "Select 20 attributes as training data\n",
      "The training attributes includes: ['employee_satisfaction', 'last_performance_rating', 'workload', 'avg_montly_hours', 'tenure_years', 'ergo_issues', 'promo_in_last_5_years', 'dept_ADMIN', 'dept_EXEC', 'dept_FIN', 'dept_HR', 'dept_IS', 'dept_MKT', 'dept_PM', 'dept_RTD', 'dept_SALES', 'dept_TECH', 'salary_LARGE', 'salary_MEDIUM', 'salary_SMALL']\n",
      "Model performance as below:\n",
      "(1) Classification_report:\n",
      "              precision    recall  f1-score   support\n",
      "\n",
      "           0       0.82      0.93      0.87      2148\n",
      "           1       0.60      0.35      0.44       665\n",
      "\n",
      "    accuracy                           0.79      2813\n",
      "   macro avg       0.71      0.64      0.66      2813\n",
      "weighted avg       0.77      0.79      0.77      2813\n",
      "\n",
      "(2) Accuracy: 0.7916814788482047\n",
      "(3) MSE: 0.20831852115179525\n",
      "(4) Cross validation scores [0.80266667 0.78577778 0.78933333 0.79022222 0.78311111 0.78755556\n",
      " 0.78488889 0.792      0.77244444 0.78024911]\n",
      "(5) Cross validation mean scores 0.7868249110320286\n",
      "----------------------------------------------------------\n"
     ]
    }
   ],
   "source": [
    "run_logistic_regression_with_different_k(leave_df, \"attrit\")"
   ]
  },
  {
   "cell_type": "markdown",
   "metadata": {
    "id": "KjLrmcfnM2kW"
   },
   "source": [
    "**Summary**\n",
    "- The overall performance (Accuracy, MSE, Cross validation mean scores) of above 20 models do not have much difference.\n",
    "- If we look at the f1-score of classification 1 (indicates attrition), the models with training attributes less than 11 has lower f1-score (~0.35). As a result, I would like to select a model which used more than 11 training attributes (Best K > 11).\n",
    "- I'll choose the model which used 14 training attributes (K = 14) as my model since it seems has a great score among all the other models."
   ]
  },
  {
   "cell_type": "markdown",
   "metadata": {
    "id": "hOJc2Vtxn8eh"
   },
   "source": [
    "**Reference**\n",
    "- [ConvergenceWarning: lbfgs failed to converge (status=1): STOP: TOTAL NO. of ITERATIONS REACHED LIMIT](https://stackoverflow.com/questions/62658215/convergencewarning-lbfgs-failed-to-converge-status-1-stop-total-no-of-iter)\n",
    "- [Feature Selection For Machine Learning in Python](https://machinelearningmastery.com/feature-selection-machine-learning-python/)"
   ]
  },
  {
   "cell_type": "markdown",
   "metadata": {
    "id": "XBqIKgU0PuWA"
   },
   "source": [
    "### Logistic regression model for attrition prediction"
   ]
  },
  {
   "cell_type": "code",
   "execution_count": 27,
   "metadata": {
    "colab": {
     "base_uri": "https://localhost:8080/"
    },
    "id": "BswraH94QKnW",
    "outputId": "f150c9b6-4751-4953-faba-6171c194c59d"
   },
   "outputs": [
    {
     "name": "stdout",
     "output_type": "stream",
     "text": [
      "Model performance as below:\n",
      "(1) Classification_report:\n",
      "              precision    recall  f1-score   support\n",
      "\n",
      "           0       0.83      0.93      0.88      2148\n",
      "           1       0.62      0.38      0.47       665\n",
      "\n",
      "    accuracy                           0.80      2813\n",
      "   macro avg       0.72      0.65      0.67      2813\n",
      "weighted avg       0.78      0.80      0.78      2813\n",
      "\n",
      "(2) Accuracy: 0.7980803412726626\n",
      "(3) MSE: 0.20191965872733736\n",
      "(4) Cross validation scores [0.80088889 0.79022222 0.79822222 0.79644444 0.79111111 0.78666667\n",
      " 0.79466667 0.80355556 0.78488889 0.77669039]\n",
      "(5) Cross validation mean scores 0.7923357058125742\n"
     ]
    }
   ],
   "source": [
    "X = leave_df[['employee_satisfaction', 'last_performance_rating', 'workload', 'tenure_years', \\\n",
    "     'ergo_issues', 'promo_in_last_5_years', 'dept_EXEC', 'dept_HR', 'dept_IS', 'dept_RTD',\\\n",
    "     'dept_TECH', 'salary_LARGE', 'salary_MEDIUM', 'salary_SMALL']].values\n",
    "y = leave_df[\"attrit\"]\n",
    "X_train, X_test, y_train, y_test = train_test_split(X, y, test_size = 0.25, random_state = 42)\n",
    "lr_attrit_model = LogisticRegression(max_iter=1000)\n",
    "lr_attrit_model.fit(X_train, y_train)\n",
    "y_predict = lr_attrit_model.predict(X_test)\n",
    "\n",
    "# Model evaluation metrics\n",
    "accuracy = accuracy_score(y_test, y_predict)\n",
    "mse = mean_squared_error(y_test, y_predict)\n",
    "cr_result = classification_report(y_test, y_predict)\n",
    "cv_scores = cross_val_score(lr_attrit_model, X, y, scoring='accuracy', cv=10)\n",
    "\n",
    "print(\"Model performance as below:\")\n",
    "print(\"(1) Classification_report:\")\n",
    "print(cr_result)\n",
    "print(\"(2) Accuracy:\", accuracy) \n",
    "print(\"(3) MSE:\", mse)\n",
    "print(\"(4) Cross validation scores\", cv_scores)\n",
    "print(\"(5) Cross validation mean scores\", cv_scores.mean())\n"
   ]
  },
  {
   "cell_type": "markdown",
   "metadata": {
    "id": "jwCS86-Vihtd"
   },
   "source": [
    "**Summary of attrition model using logistic regression**\n",
    "- The overall performance of this model is great. We have overall accuracy = 0.8, MSE = 0.2, cross validation mean scores = 0.79, which indicates these model perform well in overall accuracy.\n",
    "- However, if we look at classification = 1, we could see that, for predicting people who really attrit, we have precision = 0.62 and recall = 0.38. The recall is very low, which indicates that we might miss lots of real attrition people while predicting.\n",
    "- Since our original dataset is inbalance (more data with attrition = 0; less data with attrition = 1), this might be the reason we get this model with low f1-score for attrition = 1. \n",
    "- In my opinion, this model is less useful since our target is to predict \"people who will leave?\". In other words, if there are total 100 people will definitely leave the company, our model could only identify 38 of them - which miss the majority of people (62 people). "
   ]
  },
  {
   "cell_type": "markdown",
   "metadata": {
    "id": "01vvSXxnnNkp"
   },
   "source": [
    "**Reference**\n",
    "- [Precision vs. Recall – An Intuitive Guide for Every Machine Learning Person](https://www.analyticsvidhya.com/blog/2020/09/precision-recall-machine-learning/)"
   ]
  },
  {
   "cell_type": "markdown",
   "metadata": {
    "id": "f-PodWEVnn9q"
   },
   "source": [
    "## Generate some sample data for predicting using our model"
   ]
  },
  {
   "cell_type": "code",
   "execution_count": 28,
   "metadata": {
    "colab": {
     "base_uri": "https://localhost:8080/",
     "height": 99
    },
    "id": "Y6s9SJnznz-K",
    "outputId": "81805d78-f591-440a-96f1-235f39649240"
   },
   "outputs": [
    {
     "data": {
      "text/html": [
       "<div>\n",
       "<style scoped>\n",
       "    .dataframe tbody tr th:only-of-type {\n",
       "        vertical-align: middle;\n",
       "    }\n",
       "\n",
       "    .dataframe tbody tr th {\n",
       "        vertical-align: top;\n",
       "    }\n",
       "\n",
       "    .dataframe thead th {\n",
       "        text-align: right;\n",
       "    }\n",
       "</style>\n",
       "<table border=\"1\" class=\"dataframe\">\n",
       "  <thead>\n",
       "    <tr style=\"text-align: right;\">\n",
       "      <th></th>\n",
       "      <th>employee_satisfaction</th>\n",
       "      <th>last_performance_rating</th>\n",
       "      <th>workload</th>\n",
       "      <th>avg_montly_hours</th>\n",
       "      <th>tenure_years</th>\n",
       "      <th>ergo_issues</th>\n",
       "      <th>attrit</th>\n",
       "      <th>promo_in_last_5_years</th>\n",
       "      <th>dept_ADMIN</th>\n",
       "      <th>dept_EXEC</th>\n",
       "      <th>dept_FIN</th>\n",
       "      <th>dept_HR</th>\n",
       "      <th>dept_IS</th>\n",
       "      <th>dept_MKT</th>\n",
       "      <th>dept_PM</th>\n",
       "      <th>dept_RTD</th>\n",
       "      <th>dept_SALES</th>\n",
       "      <th>dept_TECH</th>\n",
       "      <th>salary_LARGE</th>\n",
       "      <th>salary_MEDIUM</th>\n",
       "      <th>salary_SMALL</th>\n",
       "    </tr>\n",
       "  </thead>\n",
       "  <tbody>\n",
       "    <tr>\n",
       "      <th>0</th>\n",
       "      <td>0.82</td>\n",
       "      <td>0.97</td>\n",
       "      <td>3</td>\n",
       "      <td>244</td>\n",
       "      <td>5</td>\n",
       "      <td>0</td>\n",
       "      <td>0</td>\n",
       "      <td>0</td>\n",
       "      <td>0</td>\n",
       "      <td>0</td>\n",
       "      <td>0</td>\n",
       "      <td>0</td>\n",
       "      <td>0</td>\n",
       "      <td>0</td>\n",
       "      <td>0</td>\n",
       "      <td>0</td>\n",
       "      <td>1</td>\n",
       "      <td>0</td>\n",
       "      <td>0</td>\n",
       "      <td>1</td>\n",
       "      <td>0</td>\n",
       "    </tr>\n",
       "  </tbody>\n",
       "</table>\n",
       "</div>"
      ],
      "text/plain": [
       "   employee_satisfaction  last_performance_rating  ...  salary_MEDIUM  salary_SMALL\n",
       "0                   0.82                     0.97  ...              1             0\n",
       "\n",
       "[1 rows x 21 columns]"
      ]
     },
     "execution_count": 28,
     "metadata": {
      "tags": []
     },
     "output_type": "execute_result"
    }
   ],
   "source": [
    "leave_df.head(1)"
   ]
  },
  {
   "cell_type": "code",
   "execution_count": 29,
   "metadata": {
    "colab": {
     "base_uri": "https://localhost:8080/"
    },
    "id": "nq1HGGS7oQro",
    "outputId": "5388ab3c-03bd-404c-f8f7-c3e8a5b06110"
   },
   "outputs": [
    {
     "data": {
      "text/plain": [
       "count    11249.000000\n",
       "mean       201.176727\n",
       "std         50.058105\n",
       "min         96.000000\n",
       "25%        156.000000\n",
       "50%        201.000000\n",
       "75%        245.000000\n",
       "max        310.000000\n",
       "Name: avg_montly_hours, dtype: float64"
      ]
     },
     "execution_count": 29,
     "metadata": {
      "tags": []
     },
     "output_type": "execute_result"
    }
   ],
   "source": [
    "leave_df.avg_montly_hours.describe()"
   ]
  },
  {
   "cell_type": "code",
   "execution_count": 30,
   "metadata": {
    "colab": {
     "base_uri": "https://localhost:8080/"
    },
    "id": "Z4kCNwm9oLv6",
    "outputId": "d1c7b930-2a1f-4b3b-fa69-0d3fd920be65"
   },
   "outputs": [
    {
     "data": {
      "text/plain": [
       "4    3301\n",
       "3    3031\n",
       "5    2045\n",
       "2    1801\n",
       "6     878\n",
       "7     193\n",
       "Name: workload, dtype: int64"
      ]
     },
     "execution_count": 30,
     "metadata": {
      "tags": []
     },
     "output_type": "execute_result"
    }
   ],
   "source": [
    "leave_df.workload.value_counts()"
   ]
  },
  {
   "cell_type": "code",
   "execution_count": 31,
   "metadata": {
    "colab": {
     "base_uri": "https://localhost:8080/"
    },
    "id": "5gs-uDScplIT",
    "outputId": "3661c92e-e580-4bd7-bbca-25ab8c3a8424"
   },
   "outputs": [
    {
     "data": {
      "text/plain": [
       "3     4841\n",
       "2     2429\n",
       "4     1923\n",
       "5     1109\n",
       "6      520\n",
       "10     175\n",
       "7      137\n",
       "8      115\n",
       "Name: tenure_years, dtype: int64"
      ]
     },
     "execution_count": 31,
     "metadata": {
      "tags": []
     },
     "output_type": "execute_result"
    }
   ],
   "source": [
    "leave_df.tenure_years.value_counts()"
   ]
  },
  {
   "cell_type": "code",
   "execution_count": 32,
   "metadata": {
    "colab": {
     "base_uri": "https://localhost:8080/"
    },
    "id": "HTiRsk3zptJV",
    "outputId": "fff22c27-01db-4cc7-d077-78657ea55921"
   },
   "outputs": [
    {
     "data": {
      "text/plain": [
       "0    9618\n",
       "1    1631\n",
       "Name: ergo_issues, dtype: int64"
      ]
     },
     "execution_count": 32,
     "metadata": {
      "tags": []
     },
     "output_type": "execute_result"
    }
   ],
   "source": [
    "leave_df.ergo_issues.value_counts()"
   ]
  },
  {
   "cell_type": "code",
   "execution_count": 33,
   "metadata": {
    "id": "yYnsG-t0sUJR"
   },
   "outputs": [],
   "source": [
    "x = [0 for i in range(10)]\n",
    "x = x + [0 for i in range(5)]"
   ]
  },
  {
   "cell_type": "code",
   "execution_count": 34,
   "metadata": {
    "id": "JqLIjXqmzhFG"
   },
   "outputs": [],
   "source": [
    "# Generate random sample\n",
    "random_input = pd.DataFrame(columns = leave_df.columns)\n",
    "random.seed(30)\n",
    "for i in range(5):\n",
    "  x = [random.random() for i in range(2)]\n",
    "  x.append(random.randint(2,7))\n",
    "  x.append(random.randint(90, 400))\n",
    "  x.append(random.randint(2, 10))\n",
    "  x.append(random.randint(0, 1))\n",
    "  x.append(0)\n",
    "  x.append(random.randint(0, 1)) \n",
    "  x = x + [0 for i in range(13)]\n",
    "  # select one department\n",
    "  pick_1 = random.randint(8, 17)\n",
    "  x[pick_1] = 1\n",
    "  # select one salary level\n",
    "  pick_2 = random.randint(18,20)\n",
    "  x[pick_2] = 1\n",
    "  random_input.loc[i] = x"
   ]
  },
  {
   "cell_type": "markdown",
   "metadata": {
    "id": "SMLCAjlNtqJl"
   },
   "source": [
    "**Reference**\n",
    "- [How to Generate Random Numbers in Python](https://machinelearningmastery.com/how-to-generate-random-numbers-in-python/)\n",
    "- [Create pandas Dataframe by appending one row at a time](https://stackoverflow.com/questions/10715965/create-pandas-dataframe-by-appending-one-row-at-a-time)"
   ]
  },
  {
   "cell_type": "code",
   "execution_count": 35,
   "metadata": {
    "colab": {
     "base_uri": "https://localhost:8080/",
     "height": 222
    },
    "id": "yoy94jhvZmyl",
    "outputId": "58a3e02d-52c2-4365-af01-6946b3a699c7"
   },
   "outputs": [
    {
     "data": {
      "text/html": [
       "<div>\n",
       "<style scoped>\n",
       "    .dataframe tbody tr th:only-of-type {\n",
       "        vertical-align: middle;\n",
       "    }\n",
       "\n",
       "    .dataframe tbody tr th {\n",
       "        vertical-align: top;\n",
       "    }\n",
       "\n",
       "    .dataframe thead th {\n",
       "        text-align: right;\n",
       "    }\n",
       "</style>\n",
       "<table border=\"1\" class=\"dataframe\">\n",
       "  <thead>\n",
       "    <tr style=\"text-align: right;\">\n",
       "      <th></th>\n",
       "      <th>employee_satisfaction</th>\n",
       "      <th>last_performance_rating</th>\n",
       "      <th>workload</th>\n",
       "      <th>avg_montly_hours</th>\n",
       "      <th>tenure_years</th>\n",
       "      <th>ergo_issues</th>\n",
       "      <th>attrit</th>\n",
       "      <th>promo_in_last_5_years</th>\n",
       "      <th>dept_ADMIN</th>\n",
       "      <th>dept_EXEC</th>\n",
       "      <th>dept_FIN</th>\n",
       "      <th>dept_HR</th>\n",
       "      <th>dept_IS</th>\n",
       "      <th>dept_MKT</th>\n",
       "      <th>dept_PM</th>\n",
       "      <th>dept_RTD</th>\n",
       "      <th>dept_SALES</th>\n",
       "      <th>dept_TECH</th>\n",
       "      <th>salary_LARGE</th>\n",
       "      <th>salary_MEDIUM</th>\n",
       "      <th>salary_SMALL</th>\n",
       "    </tr>\n",
       "  </thead>\n",
       "  <tbody>\n",
       "    <tr>\n",
       "      <th>0</th>\n",
       "      <td>0.539082</td>\n",
       "      <td>0.289196</td>\n",
       "      <td>2.0</td>\n",
       "      <td>197.0</td>\n",
       "      <td>6.0</td>\n",
       "      <td>0.0</td>\n",
       "      <td>0.0</td>\n",
       "      <td>1.0</td>\n",
       "      <td>0.0</td>\n",
       "      <td>0.0</td>\n",
       "      <td>0.0</td>\n",
       "      <td>0.0</td>\n",
       "      <td>0.0</td>\n",
       "      <td>0.0</td>\n",
       "      <td>1.0</td>\n",
       "      <td>0.0</td>\n",
       "      <td>0.0</td>\n",
       "      <td>0.0</td>\n",
       "      <td>0.0</td>\n",
       "      <td>0.0</td>\n",
       "      <td>1.0</td>\n",
       "    </tr>\n",
       "    <tr>\n",
       "      <th>1</th>\n",
       "      <td>0.134071</td>\n",
       "      <td>0.081317</td>\n",
       "      <td>2.0</td>\n",
       "      <td>357.0</td>\n",
       "      <td>5.0</td>\n",
       "      <td>0.0</td>\n",
       "      <td>0.0</td>\n",
       "      <td>0.0</td>\n",
       "      <td>0.0</td>\n",
       "      <td>0.0</td>\n",
       "      <td>1.0</td>\n",
       "      <td>0.0</td>\n",
       "      <td>0.0</td>\n",
       "      <td>0.0</td>\n",
       "      <td>0.0</td>\n",
       "      <td>0.0</td>\n",
       "      <td>0.0</td>\n",
       "      <td>0.0</td>\n",
       "      <td>0.0</td>\n",
       "      <td>0.0</td>\n",
       "      <td>1.0</td>\n",
       "    </tr>\n",
       "    <tr>\n",
       "      <th>2</th>\n",
       "      <td>0.530824</td>\n",
       "      <td>0.401779</td>\n",
       "      <td>7.0</td>\n",
       "      <td>268.0</td>\n",
       "      <td>10.0</td>\n",
       "      <td>0.0</td>\n",
       "      <td>0.0</td>\n",
       "      <td>1.0</td>\n",
       "      <td>1.0</td>\n",
       "      <td>0.0</td>\n",
       "      <td>0.0</td>\n",
       "      <td>0.0</td>\n",
       "      <td>0.0</td>\n",
       "      <td>0.0</td>\n",
       "      <td>0.0</td>\n",
       "      <td>0.0</td>\n",
       "      <td>0.0</td>\n",
       "      <td>0.0</td>\n",
       "      <td>1.0</td>\n",
       "      <td>0.0</td>\n",
       "      <td>0.0</td>\n",
       "    </tr>\n",
       "    <tr>\n",
       "      <th>3</th>\n",
       "      <td>0.805294</td>\n",
       "      <td>0.671970</td>\n",
       "      <td>5.0</td>\n",
       "      <td>379.0</td>\n",
       "      <td>3.0</td>\n",
       "      <td>1.0</td>\n",
       "      <td>0.0</td>\n",
       "      <td>0.0</td>\n",
       "      <td>0.0</td>\n",
       "      <td>0.0</td>\n",
       "      <td>0.0</td>\n",
       "      <td>0.0</td>\n",
       "      <td>0.0</td>\n",
       "      <td>0.0</td>\n",
       "      <td>0.0</td>\n",
       "      <td>0.0</td>\n",
       "      <td>0.0</td>\n",
       "      <td>1.0</td>\n",
       "      <td>0.0</td>\n",
       "      <td>1.0</td>\n",
       "      <td>0.0</td>\n",
       "    </tr>\n",
       "    <tr>\n",
       "      <th>4</th>\n",
       "      <td>0.933746</td>\n",
       "      <td>0.129345</td>\n",
       "      <td>4.0</td>\n",
       "      <td>249.0</td>\n",
       "      <td>6.0</td>\n",
       "      <td>0.0</td>\n",
       "      <td>0.0</td>\n",
       "      <td>0.0</td>\n",
       "      <td>0.0</td>\n",
       "      <td>0.0</td>\n",
       "      <td>0.0</td>\n",
       "      <td>1.0</td>\n",
       "      <td>0.0</td>\n",
       "      <td>0.0</td>\n",
       "      <td>0.0</td>\n",
       "      <td>0.0</td>\n",
       "      <td>0.0</td>\n",
       "      <td>0.0</td>\n",
       "      <td>0.0</td>\n",
       "      <td>0.0</td>\n",
       "      <td>1.0</td>\n",
       "    </tr>\n",
       "  </tbody>\n",
       "</table>\n",
       "</div>"
      ],
      "text/plain": [
       "   employee_satisfaction  last_performance_rating  ...  salary_MEDIUM  salary_SMALL\n",
       "0               0.539082                 0.289196  ...            0.0           1.0\n",
       "1               0.134071                 0.081317  ...            0.0           1.0\n",
       "2               0.530824                 0.401779  ...            0.0           0.0\n",
       "3               0.805294                 0.671970  ...            1.0           0.0\n",
       "4               0.933746                 0.129345  ...            0.0           1.0\n",
       "\n",
       "[5 rows x 21 columns]"
      ]
     },
     "execution_count": 35,
     "metadata": {
      "tags": []
     },
     "output_type": "execute_result"
    }
   ],
   "source": [
    "random_input"
   ]
  },
  {
   "cell_type": "code",
   "execution_count": 36,
   "metadata": {
    "id": "fo2p7zIzvvxx"
   },
   "outputs": [],
   "source": [
    "# Predict our sample data\n",
    "sample_remaing_list = ['employee_satisfaction', 'last_performance_rating', 'workload', 'tenure_years', \\\n",
    "     'ergo_issues', 'promo_in_last_5_years', 'dept_EXEC', 'dept_HR', 'dept_IS', 'dept_RTD',\\\n",
    "     'dept_TECH', 'salary_LARGE', 'salary_MEDIUM', 'salary_SMALL']\n",
    "sample_X = random_input[random_input.columns.intersection(sample_remaing_list)]\n",
    "sample_predict = lr_attrit_model.predict(sample_X)\n"
   ]
  },
  {
   "cell_type": "code",
   "execution_count": 37,
   "metadata": {
    "colab": {
     "base_uri": "https://localhost:8080/",
     "height": 222
    },
    "id": "T4YRTpyexpMq",
    "outputId": "747ad851-0d49-4c9e-f5a7-589c89097d51"
   },
   "outputs": [
    {
     "data": {
      "text/html": [
       "<div>\n",
       "<style scoped>\n",
       "    .dataframe tbody tr th:only-of-type {\n",
       "        vertical-align: middle;\n",
       "    }\n",
       "\n",
       "    .dataframe tbody tr th {\n",
       "        vertical-align: top;\n",
       "    }\n",
       "\n",
       "    .dataframe thead th {\n",
       "        text-align: right;\n",
       "    }\n",
       "</style>\n",
       "<table border=\"1\" class=\"dataframe\">\n",
       "  <thead>\n",
       "    <tr style=\"text-align: right;\">\n",
       "      <th></th>\n",
       "      <th>employee_satisfaction</th>\n",
       "      <th>last_performance_rating</th>\n",
       "      <th>workload</th>\n",
       "      <th>avg_montly_hours</th>\n",
       "      <th>tenure_years</th>\n",
       "      <th>ergo_issues</th>\n",
       "      <th>attrit</th>\n",
       "      <th>promo_in_last_5_years</th>\n",
       "      <th>dept_ADMIN</th>\n",
       "      <th>dept_EXEC</th>\n",
       "      <th>dept_FIN</th>\n",
       "      <th>dept_HR</th>\n",
       "      <th>dept_IS</th>\n",
       "      <th>dept_MKT</th>\n",
       "      <th>dept_PM</th>\n",
       "      <th>dept_RTD</th>\n",
       "      <th>dept_SALES</th>\n",
       "      <th>dept_TECH</th>\n",
       "      <th>salary_LARGE</th>\n",
       "      <th>salary_MEDIUM</th>\n",
       "      <th>salary_SMALL</th>\n",
       "      <th>predict_attrition</th>\n",
       "    </tr>\n",
       "  </thead>\n",
       "  <tbody>\n",
       "    <tr>\n",
       "      <th>0</th>\n",
       "      <td>0.539082</td>\n",
       "      <td>0.289196</td>\n",
       "      <td>2.0</td>\n",
       "      <td>197.0</td>\n",
       "      <td>6.0</td>\n",
       "      <td>0.0</td>\n",
       "      <td>0.0</td>\n",
       "      <td>1.0</td>\n",
       "      <td>0.0</td>\n",
       "      <td>0.0</td>\n",
       "      <td>0.0</td>\n",
       "      <td>0.0</td>\n",
       "      <td>0.0</td>\n",
       "      <td>0.0</td>\n",
       "      <td>1.0</td>\n",
       "      <td>0.0</td>\n",
       "      <td>0.0</td>\n",
       "      <td>0.0</td>\n",
       "      <td>0.0</td>\n",
       "      <td>0.0</td>\n",
       "      <td>1.0</td>\n",
       "      <td>0</td>\n",
       "    </tr>\n",
       "    <tr>\n",
       "      <th>1</th>\n",
       "      <td>0.134071</td>\n",
       "      <td>0.081317</td>\n",
       "      <td>2.0</td>\n",
       "      <td>357.0</td>\n",
       "      <td>5.0</td>\n",
       "      <td>0.0</td>\n",
       "      <td>0.0</td>\n",
       "      <td>0.0</td>\n",
       "      <td>0.0</td>\n",
       "      <td>0.0</td>\n",
       "      <td>1.0</td>\n",
       "      <td>0.0</td>\n",
       "      <td>0.0</td>\n",
       "      <td>0.0</td>\n",
       "      <td>0.0</td>\n",
       "      <td>0.0</td>\n",
       "      <td>0.0</td>\n",
       "      <td>0.0</td>\n",
       "      <td>0.0</td>\n",
       "      <td>0.0</td>\n",
       "      <td>1.0</td>\n",
       "      <td>1</td>\n",
       "    </tr>\n",
       "    <tr>\n",
       "      <th>2</th>\n",
       "      <td>0.530824</td>\n",
       "      <td>0.401779</td>\n",
       "      <td>7.0</td>\n",
       "      <td>268.0</td>\n",
       "      <td>10.0</td>\n",
       "      <td>0.0</td>\n",
       "      <td>0.0</td>\n",
       "      <td>1.0</td>\n",
       "      <td>1.0</td>\n",
       "      <td>0.0</td>\n",
       "      <td>0.0</td>\n",
       "      <td>0.0</td>\n",
       "      <td>0.0</td>\n",
       "      <td>0.0</td>\n",
       "      <td>0.0</td>\n",
       "      <td>0.0</td>\n",
       "      <td>0.0</td>\n",
       "      <td>0.0</td>\n",
       "      <td>1.0</td>\n",
       "      <td>0.0</td>\n",
       "      <td>0.0</td>\n",
       "      <td>0</td>\n",
       "    </tr>\n",
       "    <tr>\n",
       "      <th>3</th>\n",
       "      <td>0.805294</td>\n",
       "      <td>0.671970</td>\n",
       "      <td>5.0</td>\n",
       "      <td>379.0</td>\n",
       "      <td>3.0</td>\n",
       "      <td>1.0</td>\n",
       "      <td>0.0</td>\n",
       "      <td>0.0</td>\n",
       "      <td>0.0</td>\n",
       "      <td>0.0</td>\n",
       "      <td>0.0</td>\n",
       "      <td>0.0</td>\n",
       "      <td>0.0</td>\n",
       "      <td>0.0</td>\n",
       "      <td>0.0</td>\n",
       "      <td>0.0</td>\n",
       "      <td>0.0</td>\n",
       "      <td>1.0</td>\n",
       "      <td>0.0</td>\n",
       "      <td>1.0</td>\n",
       "      <td>0.0</td>\n",
       "      <td>0</td>\n",
       "    </tr>\n",
       "    <tr>\n",
       "      <th>4</th>\n",
       "      <td>0.933746</td>\n",
       "      <td>0.129345</td>\n",
       "      <td>4.0</td>\n",
       "      <td>249.0</td>\n",
       "      <td>6.0</td>\n",
       "      <td>0.0</td>\n",
       "      <td>0.0</td>\n",
       "      <td>0.0</td>\n",
       "      <td>0.0</td>\n",
       "      <td>0.0</td>\n",
       "      <td>0.0</td>\n",
       "      <td>1.0</td>\n",
       "      <td>0.0</td>\n",
       "      <td>0.0</td>\n",
       "      <td>0.0</td>\n",
       "      <td>0.0</td>\n",
       "      <td>0.0</td>\n",
       "      <td>0.0</td>\n",
       "      <td>0.0</td>\n",
       "      <td>0.0</td>\n",
       "      <td>1.0</td>\n",
       "      <td>0</td>\n",
       "    </tr>\n",
       "  </tbody>\n",
       "</table>\n",
       "</div>"
      ],
      "text/plain": [
       "   employee_satisfaction  ...  predict_attrition\n",
       "0               0.539082  ...                  0\n",
       "1               0.134071  ...                  1\n",
       "2               0.530824  ...                  0\n",
       "3               0.805294  ...                  0\n",
       "4               0.933746  ...                  0\n",
       "\n",
       "[5 rows x 22 columns]"
      ]
     },
     "execution_count": 37,
     "metadata": {
      "tags": []
     },
     "output_type": "execute_result"
    }
   ],
   "source": [
    "# Join the prediction into table\n",
    "random_input.join(pd.DataFrame(sample_predict, columns= {\"predict_attrition\"}))"
   ]
  },
  {
   "cell_type": "markdown",
   "metadata": {
    "id": "lEwSpqR_ydsF"
   },
   "source": [
    "**Summary**    \n",
    "I randomly generated 5 sample data as the table above. According to our prediction model, we could see that the second record will be the person who might leave the company given by our model output. It seems reasonable since this record have low satisfaction score, low performance rating and small salary. Based on our previous exploratory data analysis, this person might be the one who very likely to leave the company."
   ]
  },
  {
   "cell_type": "markdown",
   "metadata": {
    "id": "YKpbEFy7eNEB"
   },
   "source": [
    "# Topic 2 - Who will transact? - transaction prediction using logistic regression"
   ]
  },
  {
   "cell_type": "code",
   "execution_count": 38,
   "metadata": {
    "id": "YaD2SxJXzwtn"
   },
   "outputs": [],
   "source": [
    "transact_df= pd.read_csv(transact_path)"
   ]
  },
  {
   "cell_type": "code",
   "execution_count": 39,
   "metadata": {
    "colab": {
     "base_uri": "https://localhost:8080/",
     "height": 161
    },
    "id": "LY8XPE4b99u3",
    "outputId": "be108468-5fa5-45dc-998d-9758ec3ce04a"
   },
   "outputs": [
    {
     "data": {
      "text/html": [
       "<div>\n",
       "<style scoped>\n",
       "    .dataframe tbody tr th:only-of-type {\n",
       "        vertical-align: middle;\n",
       "    }\n",
       "\n",
       "    .dataframe tbody tr th {\n",
       "        vertical-align: top;\n",
       "    }\n",
       "\n",
       "    .dataframe thead th {\n",
       "        text-align: right;\n",
       "    }\n",
       "</style>\n",
       "<table border=\"1\" class=\"dataframe\">\n",
       "  <thead>\n",
       "    <tr style=\"text-align: right;\">\n",
       "      <th></th>\n",
       "      <th>row</th>\n",
       "      <th>transaction</th>\n",
       "      <th>salary_usd</th>\n",
       "      <th>is_male</th>\n",
       "      <th>is_married</th>\n",
       "      <th>is_college</th>\n",
       "      <th>is_professional</th>\n",
       "      <th>is_senior</th>\n",
       "      <th>is_employed</th>\n",
       "      <th>is_single_income</th>\n",
       "      <th>children_present</th>\n",
       "      <th>is_renter</th>\n",
       "      <th>lives_in_house</th>\n",
       "      <th>is_english_primary_language</th>\n",
       "      <th>previously_disney_customer</th>\n",
       "      <th>previous_streaming_service_customer</th>\n",
       "    </tr>\n",
       "  </thead>\n",
       "  <tbody>\n",
       "    <tr>\n",
       "      <th>0</th>\n",
       "      <td>653</td>\n",
       "      <td>0</td>\n",
       "      <td>25000</td>\n",
       "      <td>1</td>\n",
       "      <td>0</td>\n",
       "      <td>0</td>\n",
       "      <td>0</td>\n",
       "      <td>0</td>\n",
       "      <td>0</td>\n",
       "      <td>1</td>\n",
       "      <td>0</td>\n",
       "      <td>1</td>\n",
       "      <td>0</td>\n",
       "      <td>1</td>\n",
       "      <td>0</td>\n",
       "      <td>0</td>\n",
       "    </tr>\n",
       "    <tr>\n",
       "      <th>1</th>\n",
       "      <td>546</td>\n",
       "      <td>0</td>\n",
       "      <td>7000</td>\n",
       "      <td>0</td>\n",
       "      <td>0</td>\n",
       "      <td>0</td>\n",
       "      <td>0</td>\n",
       "      <td>0</td>\n",
       "      <td>0</td>\n",
       "      <td>1</td>\n",
       "      <td>1</td>\n",
       "      <td>1</td>\n",
       "      <td>1</td>\n",
       "      <td>1</td>\n",
       "      <td>0</td>\n",
       "      <td>0</td>\n",
       "    </tr>\n",
       "    <tr>\n",
       "      <th>2</th>\n",
       "      <td>463</td>\n",
       "      <td>0</td>\n",
       "      <td>25000</td>\n",
       "      <td>1</td>\n",
       "      <td>0</td>\n",
       "      <td>0</td>\n",
       "      <td>1</td>\n",
       "      <td>0</td>\n",
       "      <td>0</td>\n",
       "      <td>1</td>\n",
       "      <td>1</td>\n",
       "      <td>1</td>\n",
       "      <td>0</td>\n",
       "      <td>1</td>\n",
       "      <td>1</td>\n",
       "      <td>0</td>\n",
       "    </tr>\n",
       "  </tbody>\n",
       "</table>\n",
       "</div>"
      ],
      "text/plain": [
       "   row  ...  previous_streaming_service_customer\n",
       "0  653  ...                                    0\n",
       "1  546  ...                                    0\n",
       "2  463  ...                                    0\n",
       "\n",
       "[3 rows x 16 columns]"
      ]
     },
     "execution_count": 39,
     "metadata": {
      "tags": []
     },
     "output_type": "execute_result"
    }
   ],
   "source": [
    "transact_df.head(3)"
   ]
  },
  {
   "cell_type": "code",
   "execution_count": 40,
   "metadata": {
    "colab": {
     "base_uri": "https://localhost:8080/",
     "height": 161
    },
    "id": "CGrRQy5gYDyk",
    "outputId": "aaba94d7-3316-43df-c0a9-69f5bb90d4b6"
   },
   "outputs": [
    {
     "data": {
      "text/html": [
       "<div>\n",
       "<style scoped>\n",
       "    .dataframe tbody tr th:only-of-type {\n",
       "        vertical-align: middle;\n",
       "    }\n",
       "\n",
       "    .dataframe tbody tr th {\n",
       "        vertical-align: top;\n",
       "    }\n",
       "\n",
       "    .dataframe thead th {\n",
       "        text-align: right;\n",
       "    }\n",
       "</style>\n",
       "<table border=\"1\" class=\"dataframe\">\n",
       "  <thead>\n",
       "    <tr style=\"text-align: right;\">\n",
       "      <th></th>\n",
       "      <th>row</th>\n",
       "      <th>transaction</th>\n",
       "      <th>salary_usd</th>\n",
       "      <th>is_male</th>\n",
       "      <th>is_married</th>\n",
       "      <th>is_college</th>\n",
       "      <th>is_professional</th>\n",
       "      <th>is_senior</th>\n",
       "      <th>is_employed</th>\n",
       "      <th>is_single_income</th>\n",
       "      <th>children_present</th>\n",
       "      <th>is_renter</th>\n",
       "      <th>lives_in_house</th>\n",
       "      <th>is_english_primary_language</th>\n",
       "      <th>previously_disney_customer</th>\n",
       "      <th>previous_streaming_service_customer</th>\n",
       "    </tr>\n",
       "  </thead>\n",
       "  <tbody>\n",
       "    <tr>\n",
       "      <th>502</th>\n",
       "      <td>148</td>\n",
       "      <td>0</td>\n",
       "      <td>10000</td>\n",
       "      <td>0</td>\n",
       "      <td>0</td>\n",
       "      <td>0</td>\n",
       "      <td>0</td>\n",
       "      <td>0</td>\n",
       "      <td>1</td>\n",
       "      <td>1</td>\n",
       "      <td>1</td>\n",
       "      <td>1</td>\n",
       "      <td>0</td>\n",
       "      <td>1</td>\n",
       "      <td>0</td>\n",
       "      <td>0</td>\n",
       "    </tr>\n",
       "    <tr>\n",
       "      <th>503</th>\n",
       "      <td>47</td>\n",
       "      <td>0</td>\n",
       "      <td>55000</td>\n",
       "      <td>0</td>\n",
       "      <td>1</td>\n",
       "      <td>0</td>\n",
       "      <td>0</td>\n",
       "      <td>0</td>\n",
       "      <td>0</td>\n",
       "      <td>0</td>\n",
       "      <td>0</td>\n",
       "      <td>0</td>\n",
       "      <td>1</td>\n",
       "      <td>1</td>\n",
       "      <td>0</td>\n",
       "      <td>0</td>\n",
       "    </tr>\n",
       "    <tr>\n",
       "      <th>504</th>\n",
       "      <td>590</td>\n",
       "      <td>0</td>\n",
       "      <td>53000</td>\n",
       "      <td>0</td>\n",
       "      <td>0</td>\n",
       "      <td>0</td>\n",
       "      <td>1</td>\n",
       "      <td>0</td>\n",
       "      <td>0</td>\n",
       "      <td>1</td>\n",
       "      <td>0</td>\n",
       "      <td>1</td>\n",
       "      <td>0</td>\n",
       "      <td>1</td>\n",
       "      <td>0</td>\n",
       "      <td>0</td>\n",
       "    </tr>\n",
       "  </tbody>\n",
       "</table>\n",
       "</div>"
      ],
      "text/plain": [
       "     row  ...  previous_streaming_service_customer\n",
       "502  148  ...                                    0\n",
       "503   47  ...                                    0\n",
       "504  590  ...                                    0\n",
       "\n",
       "[3 rows x 16 columns]"
      ]
     },
     "execution_count": 40,
     "metadata": {
      "tags": []
     },
     "output_type": "execute_result"
    }
   ],
   "source": [
    "transact_df.tail(3)"
   ]
  },
  {
   "cell_type": "code",
   "execution_count": 41,
   "metadata": {
    "colab": {
     "base_uri": "https://localhost:8080/"
    },
    "id": "1tKzl9N-ewNp",
    "outputId": "ef17016f-0ff8-4750-f2c5-f1a618e3c1a7"
   },
   "outputs": [
    {
     "data": {
      "text/plain": [
       "(505, 16)"
      ]
     },
     "execution_count": 41,
     "metadata": {
      "tags": []
     },
     "output_type": "execute_result"
    }
   ],
   "source": [
    "transact_df.shape"
   ]
  },
  {
   "cell_type": "code",
   "execution_count": 42,
   "metadata": {
    "colab": {
     "base_uri": "https://localhost:8080/"
    },
    "id": "An-rmM71e0WB",
    "outputId": "beab694f-c3f5-4cde-9845-28a2fa45edab"
   },
   "outputs": [
    {
     "name": "stdout",
     "output_type": "stream",
     "text": [
      "<class 'pandas.core.frame.DataFrame'>\n",
      "RangeIndex: 505 entries, 0 to 504\n",
      "Data columns (total 16 columns):\n",
      " #   Column                               Non-Null Count  Dtype\n",
      "---  ------                               --------------  -----\n",
      " 0   row                                  505 non-null    int64\n",
      " 1   transaction                          505 non-null    int64\n",
      " 2   salary_usd                           505 non-null    int64\n",
      " 3   is_male                              505 non-null    int64\n",
      " 4   is_married                           505 non-null    int64\n",
      " 5   is_college                           505 non-null    int64\n",
      " 6   is_professional                      505 non-null    int64\n",
      " 7   is_senior                            505 non-null    int64\n",
      " 8   is_employed                          505 non-null    int64\n",
      " 9   is_single_income                     505 non-null    int64\n",
      " 10  children_present                     505 non-null    int64\n",
      " 11  is_renter                            505 non-null    int64\n",
      " 12  lives_in_house                       505 non-null    int64\n",
      " 13  is_english_primary_language          505 non-null    int64\n",
      " 14  previously_disney_customer           505 non-null    int64\n",
      " 15  previous_streaming_service_customer  505 non-null    int64\n",
      "dtypes: int64(16)\n",
      "memory usage: 63.2 KB\n"
     ]
    }
   ],
   "source": [
    "transact_df.info()"
   ]
  },
  {
   "cell_type": "code",
   "execution_count": 43,
   "metadata": {
    "colab": {
     "base_uri": "https://localhost:8080/"
    },
    "id": "K25oU_xOe2sz",
    "outputId": "329bdc78-0c7f-42a9-fa3f-1ceaea16822b"
   },
   "outputs": [
    {
     "data": {
      "text/plain": [
       "row                                    0\n",
       "transaction                            0\n",
       "salary_usd                             0\n",
       "is_male                                0\n",
       "is_married                             0\n",
       "is_college                             0\n",
       "is_professional                        0\n",
       "is_senior                              0\n",
       "is_employed                            0\n",
       "is_single_income                       0\n",
       "children_present                       0\n",
       "is_renter                              0\n",
       "lives_in_house                         0\n",
       "is_english_primary_language            0\n",
       "previously_disney_customer             0\n",
       "previous_streaming_service_customer    0\n",
       "dtype: int64"
      ]
     },
     "execution_count": 43,
     "metadata": {
      "tags": []
     },
     "output_type": "execute_result"
    }
   ],
   "source": [
    "transact_df.isnull().sum()"
   ]
  },
  {
   "cell_type": "code",
   "execution_count": 44,
   "metadata": {
    "colab": {
     "base_uri": "https://localhost:8080/",
     "height": 314
    },
    "id": "eC8408yKexqP",
    "outputId": "15c54608-9195-4923-bdcc-ef5f770814d1"
   },
   "outputs": [
    {
     "data": {
      "text/html": [
       "<div>\n",
       "<style scoped>\n",
       "    .dataframe tbody tr th:only-of-type {\n",
       "        vertical-align: middle;\n",
       "    }\n",
       "\n",
       "    .dataframe tbody tr th {\n",
       "        vertical-align: top;\n",
       "    }\n",
       "\n",
       "    .dataframe thead th {\n",
       "        text-align: right;\n",
       "    }\n",
       "</style>\n",
       "<table border=\"1\" class=\"dataframe\">\n",
       "  <thead>\n",
       "    <tr style=\"text-align: right;\">\n",
       "      <th></th>\n",
       "      <th>row</th>\n",
       "      <th>transaction</th>\n",
       "      <th>salary_usd</th>\n",
       "      <th>is_male</th>\n",
       "      <th>is_married</th>\n",
       "      <th>is_college</th>\n",
       "      <th>is_professional</th>\n",
       "      <th>is_senior</th>\n",
       "      <th>is_employed</th>\n",
       "      <th>is_single_income</th>\n",
       "      <th>children_present</th>\n",
       "      <th>is_renter</th>\n",
       "      <th>lives_in_house</th>\n",
       "      <th>is_english_primary_language</th>\n",
       "      <th>previously_disney_customer</th>\n",
       "      <th>previous_streaming_service_customer</th>\n",
       "    </tr>\n",
       "  </thead>\n",
       "  <tbody>\n",
       "    <tr>\n",
       "      <th>count</th>\n",
       "      <td>505.0</td>\n",
       "      <td>505.0</td>\n",
       "      <td>505.0</td>\n",
       "      <td>505.0</td>\n",
       "      <td>505.0</td>\n",
       "      <td>505.0</td>\n",
       "      <td>505.0</td>\n",
       "      <td>505.0</td>\n",
       "      <td>505.0</td>\n",
       "      <td>505.0</td>\n",
       "      <td>505.0</td>\n",
       "      <td>505.0</td>\n",
       "      <td>505.0</td>\n",
       "      <td>505.0</td>\n",
       "      <td>505.0</td>\n",
       "      <td>505.0</td>\n",
       "    </tr>\n",
       "    <tr>\n",
       "      <th>mean</th>\n",
       "      <td>337.0</td>\n",
       "      <td>0.0</td>\n",
       "      <td>58224.0</td>\n",
       "      <td>0.0</td>\n",
       "      <td>0.0</td>\n",
       "      <td>0.0</td>\n",
       "      <td>0.0</td>\n",
       "      <td>0.0</td>\n",
       "      <td>0.0</td>\n",
       "      <td>1.0</td>\n",
       "      <td>0.0</td>\n",
       "      <td>1.0</td>\n",
       "      <td>1.0</td>\n",
       "      <td>1.0</td>\n",
       "      <td>0.0</td>\n",
       "      <td>0.0</td>\n",
       "    </tr>\n",
       "    <tr>\n",
       "      <th>std</th>\n",
       "      <td>196.0</td>\n",
       "      <td>0.0</td>\n",
       "      <td>39098.0</td>\n",
       "      <td>0.0</td>\n",
       "      <td>0.0</td>\n",
       "      <td>0.0</td>\n",
       "      <td>0.0</td>\n",
       "      <td>0.0</td>\n",
       "      <td>0.0</td>\n",
       "      <td>0.0</td>\n",
       "      <td>0.0</td>\n",
       "      <td>0.0</td>\n",
       "      <td>0.0</td>\n",
       "      <td>0.0</td>\n",
       "      <td>0.0</td>\n",
       "      <td>0.0</td>\n",
       "    </tr>\n",
       "    <tr>\n",
       "      <th>min</th>\n",
       "      <td>1.0</td>\n",
       "      <td>0.0</td>\n",
       "      <td>0.0</td>\n",
       "      <td>0.0</td>\n",
       "      <td>0.0</td>\n",
       "      <td>0.0</td>\n",
       "      <td>0.0</td>\n",
       "      <td>0.0</td>\n",
       "      <td>0.0</td>\n",
       "      <td>0.0</td>\n",
       "      <td>0.0</td>\n",
       "      <td>0.0</td>\n",
       "      <td>0.0</td>\n",
       "      <td>0.0</td>\n",
       "      <td>0.0</td>\n",
       "      <td>0.0</td>\n",
       "    </tr>\n",
       "    <tr>\n",
       "      <th>25%</th>\n",
       "      <td>162.0</td>\n",
       "      <td>0.0</td>\n",
       "      <td>25000.0</td>\n",
       "      <td>0.0</td>\n",
       "      <td>0.0</td>\n",
       "      <td>0.0</td>\n",
       "      <td>0.0</td>\n",
       "      <td>0.0</td>\n",
       "      <td>0.0</td>\n",
       "      <td>1.0</td>\n",
       "      <td>0.0</td>\n",
       "      <td>0.0</td>\n",
       "      <td>0.0</td>\n",
       "      <td>1.0</td>\n",
       "      <td>0.0</td>\n",
       "      <td>0.0</td>\n",
       "    </tr>\n",
       "    <tr>\n",
       "      <th>50%</th>\n",
       "      <td>338.0</td>\n",
       "      <td>0.0</td>\n",
       "      <td>55000.0</td>\n",
       "      <td>0.0</td>\n",
       "      <td>0.0</td>\n",
       "      <td>0.0</td>\n",
       "      <td>0.0</td>\n",
       "      <td>0.0</td>\n",
       "      <td>0.0</td>\n",
       "      <td>1.0</td>\n",
       "      <td>0.0</td>\n",
       "      <td>1.0</td>\n",
       "      <td>1.0</td>\n",
       "      <td>1.0</td>\n",
       "      <td>0.0</td>\n",
       "      <td>0.0</td>\n",
       "    </tr>\n",
       "    <tr>\n",
       "      <th>75%</th>\n",
       "      <td>506.0</td>\n",
       "      <td>0.0</td>\n",
       "      <td>86000.0</td>\n",
       "      <td>1.0</td>\n",
       "      <td>1.0</td>\n",
       "      <td>1.0</td>\n",
       "      <td>1.0</td>\n",
       "      <td>0.0</td>\n",
       "      <td>0.0</td>\n",
       "      <td>1.0</td>\n",
       "      <td>1.0</td>\n",
       "      <td>1.0</td>\n",
       "      <td>1.0</td>\n",
       "      <td>1.0</td>\n",
       "      <td>0.0</td>\n",
       "      <td>0.0</td>\n",
       "    </tr>\n",
       "    <tr>\n",
       "      <th>max</th>\n",
       "      <td>672.0</td>\n",
       "      <td>1.0</td>\n",
       "      <td>124000.0</td>\n",
       "      <td>1.0</td>\n",
       "      <td>1.0</td>\n",
       "      <td>1.0</td>\n",
       "      <td>1.0</td>\n",
       "      <td>1.0</td>\n",
       "      <td>1.0</td>\n",
       "      <td>1.0</td>\n",
       "      <td>1.0</td>\n",
       "      <td>1.0</td>\n",
       "      <td>1.0</td>\n",
       "      <td>1.0</td>\n",
       "      <td>1.0</td>\n",
       "      <td>1.0</td>\n",
       "    </tr>\n",
       "  </tbody>\n",
       "</table>\n",
       "</div>"
      ],
      "text/plain": [
       "         row  ...  previous_streaming_service_customer\n",
       "count  505.0  ...                                505.0\n",
       "mean   337.0  ...                                  0.0\n",
       "std    196.0  ...                                  0.0\n",
       "min      1.0  ...                                  0.0\n",
       "25%    162.0  ...                                  0.0\n",
       "50%    338.0  ...                                  0.0\n",
       "75%    506.0  ...                                  0.0\n",
       "max    672.0  ...                                  1.0\n",
       "\n",
       "[8 rows x 16 columns]"
      ]
     },
     "execution_count": 44,
     "metadata": {
      "tags": []
     },
     "output_type": "execute_result"
    }
   ],
   "source": [
    "transact_df.describe().round()"
   ]
  },
  {
   "cell_type": "code",
   "execution_count": 45,
   "metadata": {
    "id": "1UVuCqRahp6K"
   },
   "outputs": [],
   "source": [
    "# Drop useless column\n",
    "transact_df.drop(columns=\"row\", inplace=True)"
   ]
  },
  {
   "cell_type": "code",
   "execution_count": 46,
   "metadata": {
    "colab": {
     "base_uri": "https://localhost:8080/"
    },
    "id": "zl_2zPG-ezMX",
    "outputId": "a4226493-e382-4a4a-9082-055017acb329"
   },
   "outputs": [
    {
     "data": {
      "text/plain": [
       "0    0.813861\n",
       "1    0.186139\n",
       "Name: transaction, dtype: float64"
      ]
     },
     "execution_count": 46,
     "metadata": {
      "tags": []
     },
     "output_type": "execute_result"
    }
   ],
   "source": [
    "# Show the percentage of our target column > check if it is inbalance\n",
    "transact_df[\"transaction\"].value_counts()/transact_df[\"transaction\"].value_counts().sum()"
   ]
  },
  {
   "cell_type": "markdown",
   "metadata": {
    "id": "gj-it-Q9h5ks"
   },
   "source": [
    "- Data is highly inbalanced"
   ]
  },
  {
   "cell_type": "code",
   "execution_count": 47,
   "metadata": {
    "colab": {
     "base_uri": "https://localhost:8080/",
     "height": 595
    },
    "id": "1vviaIVyggDa",
    "outputId": "076c2337-4f32-4b21-96f2-b675b14f02f5"
   },
   "outputs": [
    {
     "name": "stderr",
     "output_type": "stream",
     "text": [
      "/usr/local/lib/python3.6/dist-packages/seaborn/distributions.py:2557: FutureWarning: `distplot` is a deprecated function and will be removed in a future version. Please adapt your code to use either `displot` (a figure-level function with similar flexibility) or `histplot` (an axes-level function for histograms).\n",
      "  warnings.warn(msg, FutureWarning)\n",
      "/usr/local/lib/python3.6/dist-packages/seaborn/distributions.py:2557: FutureWarning: `distplot` is a deprecated function and will be removed in a future version. Please adapt your code to use either `displot` (a figure-level function with similar flexibility) or `histplot` (an axes-level function for histograms).\n",
      "  warnings.warn(msg, FutureWarning)\n"
     ]
    },
    {
     "data": {
      "image/png": "[encoded data removed]",
      "text/plain": [
       "<Figure size 1728x576 with 1 Axes>"
      ]
     },
     "metadata": {
      "tags": []
     },
     "output_type": "display_data"
    }
   ],
   "source": [
    "generate_distplot(transact_df, \"transaction\", \"salary_usd\", \"no transact\", \"transact\")"
   ]
  },
  {
   "cell_type": "markdown",
   "metadata": {
    "id": "9OI8VrvGlg8r"
   },
   "source": [
    "**Summary**\n",
    "- People who have higher salary are more likely to transact than people who have lower salary."
   ]
  },
  {
   "cell_type": "code",
   "execution_count": 48,
   "metadata": {
    "colab": {
     "base_uri": "https://localhost:8080/",
     "height": 1000
    },
    "id": "vZJpglY0uft9",
    "outputId": "3e72bfb8-e1cf-41b7-d0c2-0106d36ae7a6"
   },
   "outputs": [
    {
     "data": {
      "image/png": "[encoded data removed]",
      "text/plain": [
       "<Figure size 1728x576 with 1 Axes>"
      ]
     },
     "metadata": {
      "tags": []
     },
     "output_type": "display_data"
    },
    {
     "data": {
      "image/png": "[encoded data removed]",
      "text/plain": [
       "<Figure size 1728x576 with 1 Axes>"
      ]
     },
     "metadata": {
      "tags": []
     },
     "output_type": "display_data"
    },
    {
     "data": {
      "image/png": "[encoded data removed]",
      "text/plain": [
       "<Figure size 1728x576 with 1 Axes>"
      ]
     },
     "metadata": {
      "tags": []
     },
     "output_type": "display_data"
    },
    {
     "data": {
      "image/png": "[encoded data removed]",
      "text/plain": [
       "<Figure size 1728x576 with 1 Axes>"
      ]
     },
     "metadata": {
      "tags": []
     },
     "output_type": "display_data"
    },
    {
     "data": {
      "image/png": "[encoded data removed]",
      "text/plain": [
       "<Figure size 1728x576 with 1 Axes>"
      ]
     },
     "metadata": {
      "tags": []
     },
     "output_type": "display_data"
    },
    {
     "data": {
      "image/png": "[encoded data removed]",
      "text/plain": [
       "<Figure size 1728x576 with 1 Axes>"
      ]
     },
     "metadata": {
      "tags": []
     },
     "output_type": "display_data"
    },
    {
     "data": {
      "image/png": "[encoded data removed]",
      "text/plain": [
       "<Figure size 1728x576 with 1 Axes>"
      ]
     },
     "metadata": {
      "tags": []
     },
     "output_type": "display_data"
    },
    {
     "data": {
      "image/png": "[encoded data removed]",
      "text/plain": [
       "<Figure size 1728x576 with 1 Axes>"
      ]
     },
     "metadata": {
      "tags": []
     },
     "output_type": "display_data"
    },
    {
     "data": {
      "image/png": "[encoded data removed]",
      "text/plain": [
       "<Figure size 1728x576 with 1 Axes>"
      ]
     },
     "metadata": {
      "tags": []
     },
     "output_type": "display_data"
    },
    {
     "data": {
      "image/png": "[encoded data removed]",
      "text/plain": [
       "<Figure size 1728x576 with 1 Axes>"
      ]
     },
     "metadata": {
      "tags": []
     },
     "output_type": "display_data"
    },
    {
     "data": {
      "image/png": "[encoded data removed]",
      "text/plain": [
       "<Figure size 1728x576 with 1 Axes>"
      ]
     },
     "metadata": {
      "tags": []
     },
     "output_type": "display_data"
    },
    {
     "data": {
      "image/png": "[encoded data removed]",
      "text/plain": [
       "<Figure size 1728x576 with 1 Axes>"
      ]
     },
     "metadata": {
      "tags": []
     },
     "output_type": "display_data"
    },
    {
     "data": {
      "image/png": "[encoded data removed]",
      "text/plain": [
       "<Figure size 1728x576 with 1 Axes>"
      ]
     },
     "metadata": {
      "tags": []
     },
     "output_type": "display_data"
    },
    {
     "data": {
      "image/png": "[encoded data removed]",
      "text/plain": [
       "<Figure size 1728x576 with 1 Axes>"
      ]
     },
     "metadata": {
      "tags": []
     },
     "output_type": "display_data"
    },
    {
     "data": {
      "image/png": "[encoded data removed]",
      "text/plain": [
       "<Figure size 1728x576 with 1 Axes>"
      ]
     },
     "metadata": {
      "tags": []
     },
     "output_type": "display_data"
    }
   ],
   "source": [
    "generate_countplot(transact_df, \"transaction\", color=None, palette=\"Set2\")"
   ]
  },
  {
   "cell_type": "code",
   "execution_count": 49,
   "metadata": {
    "colab": {
     "base_uri": "https://localhost:8080/"
    },
    "id": "qywDH1qjvj-a",
    "outputId": "ffde62aa-34f5-47bd-8d3d-f38f670b8fd2"
   },
   "outputs": [
    {
     "name": "stdout",
     "output_type": "stream",
     "text": [
      "                         transaction\n",
      "transaction transaction             \n",
      "0           0                  100.0\n",
      "1           1                  100.0\n",
      "                        transaction\n",
      "salary_usd transaction             \n",
      "0          0                 100.00\n",
      "2000       0                 100.00\n",
      "3000       0                 100.00\n",
      "5000       0                 100.00\n",
      "7000       0                 100.00\n",
      "...                             ...\n",
      "119000     0                  50.00\n",
      "           1                  50.00\n",
      "121000     1                 100.00\n",
      "124000     0                  13.33\n",
      "           1                  86.67\n",
      "\n",
      "[90 rows x 1 columns]\n",
      "                     transaction\n",
      "is_male transaction             \n",
      "0       0                  78.29\n",
      "        1                  21.71\n",
      "1       0                  85.27\n",
      "        1                  14.73\n",
      "                        transaction\n",
      "is_married transaction             \n",
      "0          0                  93.12\n",
      "           1                   6.88\n",
      "1          0                  61.08\n",
      "           1                  38.92\n",
      "                        transaction\n",
      "is_college transaction             \n",
      "0          0                  87.39\n",
      "           1                  12.61\n",
      "1          0                  67.95\n",
      "           1                  32.05\n",
      "                             transaction\n",
      "is_professional transaction             \n",
      "0               0                  88.69\n",
      "                1                  11.31\n",
      "1               0                  67.98\n",
      "                1                  32.02\n",
      "                       transaction\n",
      "is_senior transaction             \n",
      "0         0                  80.97\n",
      "          1                  19.03\n",
      "1         0                  87.50\n",
      "          1                  12.50\n",
      "                         transaction\n",
      "is_employed transaction             \n",
      "0           0                  80.82\n",
      "            1                  19.18\n",
      "1           0                 100.00\n",
      "                              transaction\n",
      "is_single_income transaction             \n",
      "0                0                  58.33\n",
      "                 1                  41.67\n",
      "1                0                  88.57\n",
      "                 1                  11.43\n",
      "                              transaction\n",
      "children_present transaction             \n",
      "0                0                  81.62\n",
      "                 1                  18.38\n",
      "1                0                  80.98\n",
      "                 1                  19.02\n",
      "                       transaction\n",
      "is_renter transaction             \n",
      "0         0                  62.81\n",
      "          1                  37.19\n",
      "1         0                  93.46\n",
      "          1                   6.54\n",
      "                            transaction\n",
      "lives_in_house transaction             \n",
      "0              0                  93.33\n",
      "               1                   6.67\n",
      "1              0                  75.59\n",
      "               1                  24.41\n",
      "                                         transaction\n",
      "is_english_primary_language transaction             \n",
      "0                           0                  96.00\n",
      "                            1                   4.00\n",
      "1                           0                  79.78\n",
      "                            1                  20.22\n",
      "                                        transaction\n",
      "previously_disney_customer transaction             \n",
      "0                          0                  83.08\n",
      "                           1                  16.92\n",
      "1                          0                  60.53\n",
      "                           1                  39.47\n",
      "                                                 transaction\n",
      "previous_streaming_service_customer transaction             \n",
      "0                                   0                  82.37\n",
      "                                    1                  17.63\n",
      "1                                   0                  70.00\n",
      "                                    1                  30.00\n"
     ]
    }
   ],
   "source": [
    "generate_all_perc_table(transact_df, \"transaction\")"
   ]
  },
  {
   "cell_type": "markdown",
   "metadata": {
    "id": "FcRnw8LhgW4b"
   },
   "source": [
    "**Summary**\n",
    "- People who are married have higher percetange to transact (38.92%) than those who are not married (6.88%).\n",
    "- People who are college students are more likely to transact (32.05%) than those who are not college studnets (12.61%).\n",
    "- People who are professionals are more likely to transact (32.02%) than those who are not professionals (11.31%).\n",
    "- People who have more than one income have higher percentage to transact (41.67%) than those who have single income (11.43%).\n",
    "- People who are not renters are more likely to transact (37.19%) than those who are not renters (6.54%).\n",
    "- People who live in house are more likely to trnsact (24.41%) than those who do not live in house (6.67%)\n",
    "- People who have English as primary language have higher percentage to transact (20.22%) than those whose primary language is not English (4%).\n",
    "- People who are previous disney customer are more likely to transact (39.47%) than those who are not (16.92%).\n",
    "- People who are previous streaming service customer are more likely to transact (30%) than those who are not (17.63%). \n",
    "- People who have childeren and people who do not have children have the similar percentage to transact (18~19%).\n",
    "\n",
    "According to above summary, we could find that is_married, is_college, is_prfessionals, is_singe_income, live_in_house, is_renter, is_english_primary_language, previously_disney_customer and previous_streaming_service_customer are all possible factors that drive people to have more transact."
   ]
  },
  {
   "cell_type": "code",
   "execution_count": 50,
   "metadata": {
    "colab": {
     "base_uri": "https://localhost:8080/"
    },
    "id": "xk1AmrMyqL-V",
    "outputId": "8b8c53d2-2357-442e-d6f3-64e0d3dba90e"
   },
   "outputs": [
    {
     "name": "stdout",
     "output_type": "stream",
     "text": [
      "Select 1 attributes as training data\n",
      "The training attributes includes: ['is_married']\n",
      "Model performance as below:\n",
      "(1) Classification_report:\n",
      "              precision    recall  f1-score   support\n",
      "\n",
      "           0       0.83      1.00      0.91       106\n",
      "           1       0.00      0.00      0.00        21\n",
      "\n",
      "    accuracy                           0.83       127\n",
      "   macro avg       0.42      0.50      0.45       127\n",
      "weighted avg       0.70      0.83      0.76       127\n",
      "\n",
      "(2) Accuracy: 0.8346456692913385\n",
      "(3) MSE: 0.16535433070866143\n",
      "(4) Cross validation scores [0.82352941 0.80392157 0.80392157 0.80392157 0.80392157 0.82\n",
      " 0.82       0.82       0.82       0.82      ]\n",
      "(5) Cross validation mean scores 0.8139215686274509\n",
      "----------------------------------------------------------\n"
     ]
    },
    {
     "name": "stderr",
     "output_type": "stream",
     "text": [
      "/usr/local/lib/python3.6/dist-packages/sklearn/metrics/_classification.py:1272: UndefinedMetricWarning: Precision and F-score are ill-defined and being set to 0.0 in labels with no predicted samples. Use `zero_division` parameter to control this behavior.\n",
      "  _warn_prf(average, modifier, msg_start, len(result))\n",
      "/usr/local/lib/python3.6/dist-packages/sklearn/metrics/_classification.py:1272: UndefinedMetricWarning: Precision and F-score are ill-defined and being set to 0.0 in labels with no predicted samples. Use `zero_division` parameter to control this behavior.\n",
      "  _warn_prf(average, modifier, msg_start, len(result))\n"
     ]
    },
    {
     "name": "stdout",
     "output_type": "stream",
     "text": [
      "Select 2 attributes as training data\n",
      "The training attributes includes: ['is_married', 'is_renter']\n",
      "Model performance as below:\n",
      "(1) Classification_report:\n",
      "              precision    recall  f1-score   support\n",
      "\n",
      "           0       0.83      1.00      0.91       106\n",
      "           1       0.00      0.00      0.00        21\n",
      "\n",
      "    accuracy                           0.83       127\n",
      "   macro avg       0.42      0.50      0.45       127\n",
      "weighted avg       0.70      0.83      0.76       127\n",
      "\n",
      "(2) Accuracy: 0.8346456692913385\n",
      "(3) MSE: 0.16535433070866143\n",
      "(4) Cross validation scores [0.82352941 0.80392157 0.80392157 0.80392157 0.80392157 0.82\n",
      " 0.82       0.82       0.82       0.82      ]\n",
      "(5) Cross validation mean scores 0.8139215686274509\n",
      "----------------------------------------------------------\n",
      "Select 3 attributes as training data\n",
      "The training attributes includes: ['is_married', 'is_professional', 'is_renter']\n",
      "Model performance as below:\n",
      "(1) Classification_report:\n",
      "              precision    recall  f1-score   support\n",
      "\n",
      "           0       0.89      0.91      0.90       106\n",
      "           1       0.47      0.43      0.45        21\n",
      "\n",
      "    accuracy                           0.83       127\n",
      "   macro avg       0.68      0.67      0.67       127\n",
      "weighted avg       0.82      0.83      0.82       127\n",
      "\n",
      "(2) Accuracy: 0.8267716535433071\n",
      "(3) MSE: 0.1732283464566929\n",
      "(4) Cross validation scores [0.8627451  0.8627451  0.88235294 0.84313725 0.82352941 0.78\n",
      " 0.76       0.76       0.9        0.84      ]\n",
      "(5) Cross validation mean scores 0.8314509803921568\n",
      "----------------------------------------------------------\n",
      "Select 4 attributes as training data\n",
      "The training attributes includes: ['is_married', 'is_professional', 'is_renter', 'is_english_primary_language']\n",
      "Model performance as below:\n",
      "(1) Classification_report:\n",
      "              precision    recall  f1-score   support\n",
      "\n",
      "           0       0.89      0.92      0.90       106\n",
      "           1       0.50      0.43      0.46        21\n",
      "\n",
      "    accuracy                           0.83       127\n",
      "   macro avg       0.69      0.67      0.68       127\n",
      "weighted avg       0.83      0.83      0.83       127\n",
      "\n",
      "(2) Accuracy: 0.8346456692913385\n",
      "(3) MSE: 0.16535433070866143\n",
      "(4) Cross validation scores [0.88235294 0.8627451  0.88235294 0.84313725 0.82352941 0.76\n",
      " 0.76       0.76       0.9        0.84      ]\n",
      "(5) Cross validation mean scores 0.8314117647058824\n",
      "----------------------------------------------------------\n",
      "Select 5 attributes as training data\n",
      "The training attributes includes: ['is_married', 'is_professional', 'is_renter', 'is_english_primary_language', 'previously_disney_customer']\n",
      "Model performance as below:\n",
      "(1) Classification_report:\n",
      "              precision    recall  f1-score   support\n",
      "\n",
      "           0       0.90      0.90      0.90       106\n",
      "           1       0.48      0.48      0.48        21\n",
      "\n",
      "    accuracy                           0.83       127\n",
      "   macro avg       0.69      0.69      0.69       127\n",
      "weighted avg       0.83      0.83      0.83       127\n",
      "\n",
      "(2) Accuracy: 0.8267716535433071\n",
      "(3) MSE: 0.1732283464566929\n",
      "(4) Cross validation scores [0.88235294 0.88235294 0.88235294 0.84313725 0.84313725 0.78\n",
      " 0.76       0.78       0.88       0.86      ]\n",
      "(5) Cross validation mean scores 0.8393333333333333\n",
      "----------------------------------------------------------\n",
      "Select 6 attributes as training data\n",
      "The training attributes includes: ['is_married', 'is_professional', 'is_renter', 'lives_in_house', 'is_english_primary_language', 'previously_disney_customer']\n",
      "Model performance as below:\n",
      "(1) Classification_report:\n",
      "              precision    recall  f1-score   support\n",
      "\n",
      "           0       0.90      0.90      0.90       106\n",
      "           1       0.48      0.48      0.48        21\n",
      "\n",
      "    accuracy                           0.83       127\n",
      "   macro avg       0.69      0.69      0.69       127\n",
      "weighted avg       0.83      0.83      0.83       127\n",
      "\n",
      "(2) Accuracy: 0.8267716535433071\n",
      "(3) MSE: 0.1732283464566929\n",
      "(4) Cross validation scores [0.88235294 0.88235294 0.88235294 0.84313725 0.88235294 0.78\n",
      " 0.76       0.78       0.9        0.86      ]\n",
      "(5) Cross validation mean scores 0.8452549019607843\n",
      "----------------------------------------------------------\n",
      "Select 7 attributes as training data\n",
      "The training attributes includes: ['is_married', 'is_college', 'is_professional', 'is_renter', 'lives_in_house', 'is_english_primary_language', 'previously_disney_customer']\n",
      "Model performance as below:\n",
      "(1) Classification_report:\n",
      "              precision    recall  f1-score   support\n",
      "\n",
      "           0       0.91      0.86      0.88       106\n",
      "           1       0.44      0.57      0.50        21\n",
      "\n",
      "    accuracy                           0.81       127\n",
      "   macro avg       0.68      0.71      0.69       127\n",
      "weighted avg       0.83      0.81      0.82       127\n",
      "\n",
      "(2) Accuracy: 0.8110236220472441\n",
      "(3) MSE: 0.1889763779527559\n",
      "(4) Cross validation scores [0.8627451  0.88235294 0.82352941 0.80392157 0.88235294 0.78\n",
      " 0.76       0.78       0.9        0.86      ]\n",
      "(5) Cross validation mean scores 0.8334901960784313\n",
      "----------------------------------------------------------\n",
      "Select 8 attributes as training data\n",
      "The training attributes includes: ['is_married', 'is_college', 'is_professional', 'is_renter', 'lives_in_house', 'is_english_primary_language', 'previously_disney_customer', 'previous_streaming_service_customer']\n",
      "Model performance as below:\n",
      "(1) Classification_report:\n",
      "              precision    recall  f1-score   support\n",
      "\n",
      "           0       0.90      0.88      0.89       106\n",
      "           1       0.46      0.52      0.49        21\n",
      "\n",
      "    accuracy                           0.82       127\n",
      "   macro avg       0.68      0.70      0.69       127\n",
      "weighted avg       0.83      0.82      0.82       127\n",
      "\n",
      "(2) Accuracy: 0.8188976377952756\n",
      "(3) MSE: 0.18110236220472442\n",
      "(4) Cross validation scores [0.8627451  0.8627451  0.82352941 0.82352941 0.90196078 0.8\n",
      " 0.78       0.78       0.92       0.84      ]\n",
      "(5) Cross validation mean scores 0.8394509803921568\n",
      "----------------------------------------------------------\n",
      "Select 9 attributes as training data\n",
      "The training attributes includes: ['is_married', 'is_college', 'is_professional', 'is_employed', 'is_renter', 'lives_in_house', 'is_english_primary_language', 'previously_disney_customer', 'previous_streaming_service_customer']\n",
      "Model performance as below:\n",
      "(1) Classification_report:\n",
      "              precision    recall  f1-score   support\n",
      "\n",
      "           0       0.90      0.88      0.89       106\n",
      "           1       0.46      0.52      0.49        21\n",
      "\n",
      "    accuracy                           0.82       127\n",
      "   macro avg       0.68      0.70      0.69       127\n",
      "weighted avg       0.83      0.82      0.82       127\n",
      "\n",
      "(2) Accuracy: 0.8188976377952756\n",
      "(3) MSE: 0.18110236220472442\n",
      "(4) Cross validation scores [0.8627451  0.8627451  0.82352941 0.82352941 0.90196078 0.8\n",
      " 0.78       0.78       0.92       0.84      ]\n",
      "(5) Cross validation mean scores 0.8394509803921568\n",
      "----------------------------------------------------------\n",
      "Select 10 attributes as training data\n",
      "The training attributes includes: ['is_married', 'is_college', 'is_professional', 'is_employed', 'is_single_income', 'is_renter', 'lives_in_house', 'is_english_primary_language', 'previously_disney_customer', 'previous_streaming_service_customer']\n",
      "Model performance as below:\n",
      "(1) Classification_report:\n",
      "              precision    recall  f1-score   support\n",
      "\n",
      "           0       0.89      0.87      0.88       106\n",
      "           1       0.42      0.48      0.44        21\n",
      "\n",
      "    accuracy                           0.80       127\n",
      "   macro avg       0.65      0.67      0.66       127\n",
      "weighted avg       0.81      0.80      0.81       127\n",
      "\n",
      "(2) Accuracy: 0.8031496062992126\n",
      "(3) MSE: 0.1968503937007874\n",
      "(4) Cross validation scores [0.8627451  0.88235294 0.82352941 0.82352941 0.88235294 0.82\n",
      " 0.82       0.74       0.92       0.82      ]\n",
      "(5) Cross validation mean scores 0.8394509803921568\n",
      "----------------------------------------------------------\n",
      "Select 11 attributes as training data\n",
      "The training attributes includes: ['is_married', 'is_college', 'is_professional', 'is_senior', 'is_employed', 'is_single_income', 'is_renter', 'lives_in_house', 'is_english_primary_language', 'previously_disney_customer', 'previous_streaming_service_customer']\n",
      "Model performance as below:\n",
      "(1) Classification_report:\n",
      "              precision    recall  f1-score   support\n",
      "\n",
      "           0       0.90      0.87      0.88       106\n",
      "           1       0.44      0.52      0.48        21\n",
      "\n",
      "    accuracy                           0.81       127\n",
      "   macro avg       0.67      0.70      0.68       127\n",
      "weighted avg       0.83      0.81      0.82       127\n",
      "\n",
      "(2) Accuracy: 0.8110236220472441\n",
      "(3) MSE: 0.1889763779527559\n",
      "(4) Cross validation scores [0.8627451  0.88235294 0.82352941 0.82352941 0.88235294 0.82\n",
      " 0.82       0.74       0.92       0.84      ]\n",
      "(5) Cross validation mean scores 0.8414509803921568\n",
      "----------------------------------------------------------\n",
      "Select 12 attributes as training data\n",
      "The training attributes includes: ['is_male', 'is_married', 'is_college', 'is_professional', 'is_senior', 'is_employed', 'is_single_income', 'is_renter', 'lives_in_house', 'is_english_primary_language', 'previously_disney_customer', 'previous_streaming_service_customer']\n",
      "Model performance as below:\n",
      "(1) Classification_report:\n",
      "              precision    recall  f1-score   support\n",
      "\n",
      "           0       0.90      0.86      0.88       106\n",
      "           1       0.42      0.52      0.47        21\n",
      "\n",
      "    accuracy                           0.80       127\n",
      "   macro avg       0.66      0.69      0.67       127\n",
      "weighted avg       0.82      0.80      0.81       127\n",
      "\n",
      "(2) Accuracy: 0.8031496062992126\n",
      "(3) MSE: 0.1968503937007874\n",
      "(4) Cross validation scores [0.84313725 0.88235294 0.82352941 0.82352941 0.88235294 0.8\n",
      " 0.8        0.76       0.9        0.84      ]\n",
      "(5) Cross validation mean scores 0.8354901960784314\n",
      "----------------------------------------------------------\n",
      "Select 13 attributes as training data\n",
      "The training attributes includes: ['is_male', 'is_married', 'is_college', 'is_professional', 'is_senior', 'is_employed', 'is_single_income', 'children_present', 'is_renter', 'lives_in_house', 'is_english_primary_language', 'previously_disney_customer', 'previous_streaming_service_customer']\n",
      "Model performance as below:\n",
      "(1) Classification_report:\n",
      "              precision    recall  f1-score   support\n",
      "\n",
      "           0       0.90      0.86      0.88       106\n",
      "           1       0.42      0.52      0.47        21\n",
      "\n",
      "    accuracy                           0.80       127\n",
      "   macro avg       0.66      0.69      0.67       127\n",
      "weighted avg       0.82      0.80      0.81       127\n",
      "\n",
      "(2) Accuracy: 0.8031496062992126\n",
      "(3) MSE: 0.1968503937007874\n",
      "(4) Cross validation scores [0.8627451  0.8627451  0.82352941 0.82352941 0.88235294 0.82\n",
      " 0.82       0.76       0.9        0.84      ]\n",
      "(5) Cross validation mean scores 0.8394901960784313\n",
      "----------------------------------------------------------\n",
      "Select 14 attributes as training data\n",
      "The training attributes includes: ['salary_usd', 'is_male', 'is_married', 'is_college', 'is_professional', 'is_senior', 'is_employed', 'is_single_income', 'children_present', 'is_renter', 'lives_in_house', 'is_english_primary_language', 'previously_disney_customer', 'previous_streaming_service_customer']\n",
      "Model performance as below:\n",
      "(1) Classification_report:\n",
      "              precision    recall  f1-score   support\n",
      "\n",
      "           0       0.97      0.92      0.94       106\n",
      "           1       0.67      0.86      0.75        21\n",
      "\n",
      "    accuracy                           0.91       127\n",
      "   macro avg       0.82      0.89      0.85       127\n",
      "weighted avg       0.92      0.91      0.91       127\n",
      "\n",
      "(2) Accuracy: 0.905511811023622\n",
      "(3) MSE: 0.09448818897637795\n",
      "(4) Cross validation scores [0.82352941 0.80392157 0.80392157 0.94117647 0.88235294 0.92\n",
      " 0.82       0.82       0.82       0.82      ]\n",
      "(5) Cross validation mean scores 0.8454901960784313\n",
      "----------------------------------------------------------\n"
     ]
    }
   ],
   "source": [
    "# Run the logistic regression with different attributes\n",
    "run_logistic_regression_with_different_k(transact_df, \"transaction\")"
   ]
  },
  {
   "cell_type": "markdown",
   "metadata": {
    "id": "EQmoOgso3eQR"
   },
   "source": [
    "**Summary**\n",
    "- From the above 14 models, we could easily see that the model using 14 training data has the overall highest performance score (accuracy, mse, cross validation mean scores).\n",
    "- The most important thing is that, this model has the highest f1-score for classification = 1, which is a strong indicator for us to choose this model for predicting the transaction."
   ]
  },
  {
   "cell_type": "code",
   "execution_count": 51,
   "metadata": {
    "colab": {
     "base_uri": "https://localhost:8080/"
    },
    "id": "0XUDoTORsl2e",
    "outputId": "4ee5ba36-d493-476a-e886-1582c0c31c3a"
   },
   "outputs": [
    {
     "name": "stdout",
     "output_type": "stream",
     "text": [
      "Model performance as below:\n",
      "(1) Classification_report:\n",
      "              precision    recall  f1-score   support\n",
      "\n",
      "           0       0.97      0.92      0.94       106\n",
      "           1       0.67      0.86      0.75        21\n",
      "\n",
      "    accuracy                           0.91       127\n",
      "   macro avg       0.82      0.89      0.85       127\n",
      "weighted avg       0.92      0.91      0.91       127\n",
      "\n",
      "(2) Accuracy: 0.905511811023622\n",
      "(3) MSE: 0.09448818897637795\n",
      "(4) Cross validation scores [0.82352941 0.80392157 0.80392157 0.94117647 0.88235294 0.92\n",
      " 0.82       0.82       0.82       0.82      ]\n",
      "(5) Cross validation mean scores 0.8454901960784313\n"
     ]
    }
   ],
   "source": [
    "# Prediction model for transaction\n",
    "X = transact_df[['salary_usd', 'is_male', 'is_married', 'is_college', 'is_professional', 'is_senior',\\\n",
    "              'is_employed', 'is_single_income', 'children_present', 'is_renter', 'lives_in_house', \\\n",
    "              'is_english_primary_language', 'previously_disney_customer', \\\n",
    "              'previous_streaming_service_customer']].values\n",
    "y = transact_df[\"transaction\"]\n",
    "X_train, X_test, y_train, y_test = train_test_split(X, y, test_size = 0.25, random_state = 42)\n",
    "lr_transaction_model = LogisticRegression(max_iter=1000)\n",
    "lr_transaction_model.fit(X_train, y_train)\n",
    "y_predict = lr_transaction_model.predict(X_test)\n",
    "\n",
    "# Model evaluation metrics\n",
    "accuracy = accuracy_score(y_test, y_predict)\n",
    "mse = mean_squared_error(y_test, y_predict)\n",
    "cr_result = classification_report(y_test, y_predict)\n",
    "cv_scores = cross_val_score(lr_transaction_model, X, y, scoring='accuracy', cv=10)\n",
    "\n",
    "print(\"Model performance as below:\")\n",
    "print(\"(1) Classification_report:\")\n",
    "print(cr_result)\n",
    "print(\"(2) Accuracy:\", accuracy) \n",
    "print(\"(3) MSE:\", mse)\n",
    "print(\"(4) Cross validation scores\", cv_scores)\n",
    "print(\"(5) Cross validation mean scores\", cv_scores.mean())"
   ]
  },
  {
   "cell_type": "markdown",
   "metadata": {
    "id": "m6GIxa7nvMAW"
   },
   "source": [
    "**Summary of transaction model using logistic regression**\n",
    "- This model has overall accuracy = 0.91, MSE= 0.094, cross validation mean scores = 0.845. And we have f1-score = 0.75 for classification = 1. Overall, it would be a great model for predicting who will transact. "
   ]
  },
  {
   "cell_type": "markdown",
   "metadata": {
    "id": "313CmOblxKbz"
   },
   "source": [
    "## Generate some sample data for predicting using our model"
   ]
  },
  {
   "cell_type": "code",
   "execution_count": 52,
   "metadata": {
    "colab": {
     "base_uri": "https://localhost:8080/",
     "height": 99
    },
    "id": "rkRm4TSsv0e2",
    "outputId": "4b98089e-1632-405b-a9c1-a254c47cbab5"
   },
   "outputs": [
    {
     "data": {
      "text/html": [
       "<div>\n",
       "<style scoped>\n",
       "    .dataframe tbody tr th:only-of-type {\n",
       "        vertical-align: middle;\n",
       "    }\n",
       "\n",
       "    .dataframe tbody tr th {\n",
       "        vertical-align: top;\n",
       "    }\n",
       "\n",
       "    .dataframe thead th {\n",
       "        text-align: right;\n",
       "    }\n",
       "</style>\n",
       "<table border=\"1\" class=\"dataframe\">\n",
       "  <thead>\n",
       "    <tr style=\"text-align: right;\">\n",
       "      <th></th>\n",
       "      <th>transaction</th>\n",
       "      <th>salary_usd</th>\n",
       "      <th>is_male</th>\n",
       "      <th>is_married</th>\n",
       "      <th>is_college</th>\n",
       "      <th>is_professional</th>\n",
       "      <th>is_senior</th>\n",
       "      <th>is_employed</th>\n",
       "      <th>is_single_income</th>\n",
       "      <th>children_present</th>\n",
       "      <th>is_renter</th>\n",
       "      <th>lives_in_house</th>\n",
       "      <th>is_english_primary_language</th>\n",
       "      <th>previously_disney_customer</th>\n",
       "      <th>previous_streaming_service_customer</th>\n",
       "    </tr>\n",
       "  </thead>\n",
       "  <tbody>\n",
       "    <tr>\n",
       "      <th>0</th>\n",
       "      <td>0</td>\n",
       "      <td>25000</td>\n",
       "      <td>1</td>\n",
       "      <td>0</td>\n",
       "      <td>0</td>\n",
       "      <td>0</td>\n",
       "      <td>0</td>\n",
       "      <td>0</td>\n",
       "      <td>1</td>\n",
       "      <td>0</td>\n",
       "      <td>1</td>\n",
       "      <td>0</td>\n",
       "      <td>1</td>\n",
       "      <td>0</td>\n",
       "      <td>0</td>\n",
       "    </tr>\n",
       "  </tbody>\n",
       "</table>\n",
       "</div>"
      ],
      "text/plain": [
       "   transaction  ...  previous_streaming_service_customer\n",
       "0            0  ...                                    0\n",
       "\n",
       "[1 rows x 15 columns]"
      ]
     },
     "execution_count": 52,
     "metadata": {
      "tags": []
     },
     "output_type": "execute_result"
    }
   ],
   "source": [
    "transact_df.head(1)"
   ]
  },
  {
   "cell_type": "code",
   "execution_count": 53,
   "metadata": {
    "colab": {
     "base_uri": "https://localhost:8080/"
    },
    "id": "dX4qbfaEv6sT",
    "outputId": "1ea59ca5-d5d2-4abe-84f5-b2e5e6e335ea"
   },
   "outputs": [
    {
     "data": {
      "text/plain": [
       "count       505.000000\n",
       "mean      58223.762376\n",
       "std       39098.058320\n",
       "min           0.000000\n",
       "25%       25000.000000\n",
       "50%       55000.000000\n",
       "75%       86000.000000\n",
       "max      124000.000000\n",
       "Name: salary_usd, dtype: float64"
      ]
     },
     "execution_count": 53,
     "metadata": {
      "tags": []
     },
     "output_type": "execute_result"
    }
   ],
   "source": [
    "transact_df.salary_usd.describe()"
   ]
  },
  {
   "cell_type": "code",
   "execution_count": 54,
   "metadata": {
    "id": "ZvigKUvTvvux"
   },
   "outputs": [],
   "source": [
    "# Generate random sample\n",
    "random_input_2 = pd.DataFrame(columns = transact_df.columns)\n",
    "random.seed(30)\n",
    "for i in range(5):\n",
    "  x = [0]\n",
    "  x.append(random.randint(0,125000))\n",
    "  x = x + [random.randint(0, 1) for i in range(13)]\n",
    "  random_input_2.loc[i] = x"
   ]
  },
  {
   "cell_type": "code",
   "execution_count": 55,
   "metadata": {
    "colab": {
     "base_uri": "https://localhost:8080/",
     "height": 222
    },
    "id": "jprk0RxMw6ks",
    "outputId": "7a5c684f-8ce9-4cfe-943b-1b7f7600d252"
   },
   "outputs": [
    {
     "data": {
      "text/html": [
       "<div>\n",
       "<style scoped>\n",
       "    .dataframe tbody tr th:only-of-type {\n",
       "        vertical-align: middle;\n",
       "    }\n",
       "\n",
       "    .dataframe tbody tr th {\n",
       "        vertical-align: top;\n",
       "    }\n",
       "\n",
       "    .dataframe thead th {\n",
       "        text-align: right;\n",
       "    }\n",
       "</style>\n",
       "<table border=\"1\" class=\"dataframe\">\n",
       "  <thead>\n",
       "    <tr style=\"text-align: right;\">\n",
       "      <th></th>\n",
       "      <th>transaction</th>\n",
       "      <th>salary_usd</th>\n",
       "      <th>is_male</th>\n",
       "      <th>is_married</th>\n",
       "      <th>is_college</th>\n",
       "      <th>is_professional</th>\n",
       "      <th>is_senior</th>\n",
       "      <th>is_employed</th>\n",
       "      <th>is_single_income</th>\n",
       "      <th>children_present</th>\n",
       "      <th>is_renter</th>\n",
       "      <th>lives_in_house</th>\n",
       "      <th>is_english_primary_language</th>\n",
       "      <th>previously_disney_customer</th>\n",
       "      <th>previous_streaming_service_customer</th>\n",
       "    </tr>\n",
       "  </thead>\n",
       "  <tbody>\n",
       "    <tr>\n",
       "      <th>0</th>\n",
       "      <td>0</td>\n",
       "      <td>70658</td>\n",
       "      <td>1</td>\n",
       "      <td>0</td>\n",
       "      <td>0</td>\n",
       "      <td>1</td>\n",
       "      <td>0</td>\n",
       "      <td>1</td>\n",
       "      <td>1</td>\n",
       "      <td>0</td>\n",
       "      <td>0</td>\n",
       "      <td>1</td>\n",
       "      <td>0</td>\n",
       "      <td>0</td>\n",
       "      <td>0</td>\n",
       "    </tr>\n",
       "    <tr>\n",
       "      <th>1</th>\n",
       "      <td>0</td>\n",
       "      <td>9521</td>\n",
       "      <td>0</td>\n",
       "      <td>1</td>\n",
       "      <td>1</td>\n",
       "      <td>0</td>\n",
       "      <td>1</td>\n",
       "      <td>0</td>\n",
       "      <td>0</td>\n",
       "      <td>1</td>\n",
       "      <td>1</td>\n",
       "      <td>0</td>\n",
       "      <td>1</td>\n",
       "      <td>0</td>\n",
       "      <td>1</td>\n",
       "    </tr>\n",
       "    <tr>\n",
       "      <th>2</th>\n",
       "      <td>0</td>\n",
       "      <td>122387</td>\n",
       "      <td>1</td>\n",
       "      <td>0</td>\n",
       "      <td>1</td>\n",
       "      <td>1</td>\n",
       "      <td>1</td>\n",
       "      <td>0</td>\n",
       "      <td>0</td>\n",
       "      <td>0</td>\n",
       "      <td>1</td>\n",
       "      <td>0</td>\n",
       "      <td>0</td>\n",
       "      <td>1</td>\n",
       "      <td>1</td>\n",
       "    </tr>\n",
       "    <tr>\n",
       "      <th>3</th>\n",
       "      <td>0</td>\n",
       "      <td>23473</td>\n",
       "      <td>0</td>\n",
       "      <td>1</td>\n",
       "      <td>1</td>\n",
       "      <td>1</td>\n",
       "      <td>1</td>\n",
       "      <td>1</td>\n",
       "      <td>0</td>\n",
       "      <td>0</td>\n",
       "      <td>0</td>\n",
       "      <td>1</td>\n",
       "      <td>1</td>\n",
       "      <td>1</td>\n",
       "      <td>1</td>\n",
       "    </tr>\n",
       "    <tr>\n",
       "      <th>4</th>\n",
       "      <td>0</td>\n",
       "      <td>33248</td>\n",
       "      <td>1</td>\n",
       "      <td>0</td>\n",
       "      <td>0</td>\n",
       "      <td>0</td>\n",
       "      <td>1</td>\n",
       "      <td>1</td>\n",
       "      <td>0</td>\n",
       "      <td>0</td>\n",
       "      <td>1</td>\n",
       "      <td>1</td>\n",
       "      <td>1</td>\n",
       "      <td>1</td>\n",
       "      <td>1</td>\n",
       "    </tr>\n",
       "  </tbody>\n",
       "</table>\n",
       "</div>"
      ],
      "text/plain": [
       "  transaction  ... previous_streaming_service_customer\n",
       "0           0  ...                                   0\n",
       "1           0  ...                                   1\n",
       "2           0  ...                                   1\n",
       "3           0  ...                                   1\n",
       "4           0  ...                                   1\n",
       "\n",
       "[5 rows x 15 columns]"
      ]
     },
     "execution_count": 55,
     "metadata": {
      "tags": []
     },
     "output_type": "execute_result"
    }
   ],
   "source": [
    "random_input_2"
   ]
  },
  {
   "cell_type": "code",
   "execution_count": 56,
   "metadata": {
    "id": "DC-1hdMmxSsP"
   },
   "outputs": [],
   "source": [
    "# Predict our sample data\n",
    "sample_X_2 = random_input_2.drop(columns=[\"transaction\"])\n",
    "sample_predict_2 = lr_transaction_model.predict(sample_X_2)"
   ]
  },
  {
   "cell_type": "code",
   "execution_count": 57,
   "metadata": {
    "colab": {
     "base_uri": "https://localhost:8080/",
     "height": 222
    },
    "id": "5ues6rstxj1s",
    "outputId": "7480d4c7-4c34-4f86-fa74-dc31b7bd6d8f"
   },
   "outputs": [
    {
     "data": {
      "text/html": [
       "<div>\n",
       "<style scoped>\n",
       "    .dataframe tbody tr th:only-of-type {\n",
       "        vertical-align: middle;\n",
       "    }\n",
       "\n",
       "    .dataframe tbody tr th {\n",
       "        vertical-align: top;\n",
       "    }\n",
       "\n",
       "    .dataframe thead th {\n",
       "        text-align: right;\n",
       "    }\n",
       "</style>\n",
       "<table border=\"1\" class=\"dataframe\">\n",
       "  <thead>\n",
       "    <tr style=\"text-align: right;\">\n",
       "      <th></th>\n",
       "      <th>transaction</th>\n",
       "      <th>salary_usd</th>\n",
       "      <th>is_male</th>\n",
       "      <th>is_married</th>\n",
       "      <th>is_college</th>\n",
       "      <th>is_professional</th>\n",
       "      <th>is_senior</th>\n",
       "      <th>is_employed</th>\n",
       "      <th>is_single_income</th>\n",
       "      <th>children_present</th>\n",
       "      <th>is_renter</th>\n",
       "      <th>lives_in_house</th>\n",
       "      <th>is_english_primary_language</th>\n",
       "      <th>previously_disney_customer</th>\n",
       "      <th>previous_streaming_service_customer</th>\n",
       "      <th>predict_transaction</th>\n",
       "    </tr>\n",
       "  </thead>\n",
       "  <tbody>\n",
       "    <tr>\n",
       "      <th>0</th>\n",
       "      <td>0</td>\n",
       "      <td>70658</td>\n",
       "      <td>1</td>\n",
       "      <td>0</td>\n",
       "      <td>0</td>\n",
       "      <td>1</td>\n",
       "      <td>0</td>\n",
       "      <td>1</td>\n",
       "      <td>1</td>\n",
       "      <td>0</td>\n",
       "      <td>0</td>\n",
       "      <td>1</td>\n",
       "      <td>0</td>\n",
       "      <td>0</td>\n",
       "      <td>0</td>\n",
       "      <td>0</td>\n",
       "    </tr>\n",
       "    <tr>\n",
       "      <th>1</th>\n",
       "      <td>0</td>\n",
       "      <td>9521</td>\n",
       "      <td>0</td>\n",
       "      <td>1</td>\n",
       "      <td>1</td>\n",
       "      <td>0</td>\n",
       "      <td>1</td>\n",
       "      <td>0</td>\n",
       "      <td>0</td>\n",
       "      <td>1</td>\n",
       "      <td>1</td>\n",
       "      <td>0</td>\n",
       "      <td>1</td>\n",
       "      <td>0</td>\n",
       "      <td>1</td>\n",
       "      <td>0</td>\n",
       "    </tr>\n",
       "    <tr>\n",
       "      <th>2</th>\n",
       "      <td>0</td>\n",
       "      <td>122387</td>\n",
       "      <td>1</td>\n",
       "      <td>0</td>\n",
       "      <td>1</td>\n",
       "      <td>1</td>\n",
       "      <td>1</td>\n",
       "      <td>0</td>\n",
       "      <td>0</td>\n",
       "      <td>0</td>\n",
       "      <td>1</td>\n",
       "      <td>0</td>\n",
       "      <td>0</td>\n",
       "      <td>1</td>\n",
       "      <td>1</td>\n",
       "      <td>1</td>\n",
       "    </tr>\n",
       "    <tr>\n",
       "      <th>3</th>\n",
       "      <td>0</td>\n",
       "      <td>23473</td>\n",
       "      <td>0</td>\n",
       "      <td>1</td>\n",
       "      <td>1</td>\n",
       "      <td>1</td>\n",
       "      <td>1</td>\n",
       "      <td>1</td>\n",
       "      <td>0</td>\n",
       "      <td>0</td>\n",
       "      <td>0</td>\n",
       "      <td>1</td>\n",
       "      <td>1</td>\n",
       "      <td>1</td>\n",
       "      <td>1</td>\n",
       "      <td>0</td>\n",
       "    </tr>\n",
       "    <tr>\n",
       "      <th>4</th>\n",
       "      <td>0</td>\n",
       "      <td>33248</td>\n",
       "      <td>1</td>\n",
       "      <td>0</td>\n",
       "      <td>0</td>\n",
       "      <td>0</td>\n",
       "      <td>1</td>\n",
       "      <td>1</td>\n",
       "      <td>0</td>\n",
       "      <td>0</td>\n",
       "      <td>1</td>\n",
       "      <td>1</td>\n",
       "      <td>1</td>\n",
       "      <td>1</td>\n",
       "      <td>1</td>\n",
       "      <td>0</td>\n",
       "    </tr>\n",
       "  </tbody>\n",
       "</table>\n",
       "</div>"
      ],
      "text/plain": [
       "  transaction  ... predict_transaction\n",
       "0           0  ...                   0\n",
       "1           0  ...                   0\n",
       "2           0  ...                   1\n",
       "3           0  ...                   0\n",
       "4           0  ...                   0\n",
       "\n",
       "[5 rows x 16 columns]"
      ]
     },
     "execution_count": 57,
     "metadata": {
      "tags": []
     },
     "output_type": "execute_result"
    }
   ],
   "source": [
    "# Join the prediction into table\n",
    "random_input_2.join(pd.DataFrame(sample_predict_2, columns= {\"predict_transaction\"}))"
   ]
  },
  {
   "cell_type": "markdown",
   "metadata": {
    "id": "rmLPvHXkx8X4"
   },
   "source": [
    "**Summary**\n",
    "- According to above prediction, we could see only third record will transact based on our prediction model. This might because this record has the highest salary - even though other attributes (is_married, lives_in_house...) not align with our previous exploratory results."
   ]
  }
 ],
 "metadata": {
  "colab": {
   "collapsed_sections": [],
   "name": "ALY6015_SandyChiang_Project3.ipynb",
   "provenance": []
  },
  "kernelspec": {
   "display_name": "Python 3",
   "language": "python",
   "name": "python3"
  },
  "language_info": {
   "codemirror_mode": {
    "name": "ipython",
    "version": 3
   },
   "file_extension": ".py",
   "mimetype": "text/x-python",
   "name": "python",
   "nbconvert_exporter": "python",
   "pygments_lexer": "ipython3",
   "version": "3.7.4"
  }
 },
 "nbformat": 4,
 "nbformat_minor": 1
}
